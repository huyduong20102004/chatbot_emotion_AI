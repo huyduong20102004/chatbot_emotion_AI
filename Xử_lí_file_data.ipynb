{
 "cells": [
  {
   "cell_type": "code",
   "execution_count": 1,
   "metadata": {
    "id": "6vAGytHrSB2z"
   },
   "outputs": [],
   "source": [
    "import pandas as pd\n",
    "import numpy as np\n",
    "import re\n",
    "import emoji\n",
    "import warnings\n",
    "warnings.filterwarnings('ignore')\n"
   ]
  },
  {
   "cell_type": "code",
   "execution_count": 2,
   "metadata": {
    "colab": {
     "base_uri": "https://localhost:8080/",
     "height": 206
    },
    "id": "B0-si61qSDIz",
    "outputId": "047a686f-d48e-4660-bdea-5e55180f89bb"
   },
   "outputs": [
    {
     "data": {
      "text/html": [
       "<div>\n",
       "<style scoped>\n",
       "    .dataframe tbody tr th:only-of-type {\n",
       "        vertical-align: middle;\n",
       "    }\n",
       "\n",
       "    .dataframe tbody tr th {\n",
       "        vertical-align: top;\n",
       "    }\n",
       "\n",
       "    .dataframe thead th {\n",
       "        text-align: right;\n",
       "    }\n",
       "</style>\n",
       "<table border=\"1\" class=\"dataframe\">\n",
       "  <thead>\n",
       "    <tr style=\"text-align: right;\">\n",
       "      <th></th>\n",
       "      <th>Unnamed: 0</th>\n",
       "      <th>Emotion</th>\n",
       "      <th>Sentence</th>\n",
       "    </tr>\n",
       "  </thead>\n",
       "  <tbody>\n",
       "    <tr>\n",
       "      <th>0</th>\n",
       "      <td>0.0</td>\n",
       "      <td>Other</td>\n",
       "      <td>1423k cho mình xin 😃 bài nhạc tên là gì với ạ</td>\n",
       "    </tr>\n",
       "    <tr>\n",
       "      <th>1</th>\n",
       "      <td>3.0</td>\n",
       "      <td>Enjoyment</td>\n",
       "      <td>uớc gì sau này về già vẫn có thể như cụ này :))</td>\n",
       "    </tr>\n",
       "    <tr>\n",
       "      <th>2</th>\n",
       "      <td>4.0</td>\n",
       "      <td>Enjoyment</td>\n",
       "      <td>mỗi lần có video của con là cứ coi đi coi lại ...</td>\n",
       "    </tr>\n",
       "    <tr>\n",
       "      <th>3</th>\n",
       "      <td>6.0</td>\n",
       "      <td>Other</td>\n",
       "      <td>một lí do trog muôn vàn lí do</td>\n",
       "    </tr>\n",
       "    <tr>\n",
       "      <th>4</th>\n",
       "      <td>9.0</td>\n",
       "      <td>Sadness</td>\n",
       "      <td>per nghe đi rồi khóc 1 trận cho thoải mái . đừ...</td>\n",
       "    </tr>\n",
       "  </tbody>\n",
       "</table>\n",
       "</div>"
      ],
      "text/plain": [
       "   Unnamed: 0    Emotion                                           Sentence\n",
       "0         0.0      Other      1423k cho mình xin 😃 bài nhạc tên là gì với ạ\n",
       "1         3.0  Enjoyment    uớc gì sau này về già vẫn có thể như cụ này :))\n",
       "2         4.0  Enjoyment  mỗi lần có video của con là cứ coi đi coi lại ...\n",
       "3         6.0      Other                      một lí do trog muôn vàn lí do\n",
       "4         9.0    Sadness  per nghe đi rồi khóc 1 trận cho thoải mái . đừ..."
      ]
     },
     "execution_count": 2,
     "metadata": {},
     "output_type": "execute_result"
    }
   ],
   "source": [
    "df= df = pd.read_excel(r\"d:\\DAP391m\\Assigment final\\Assignment_DAP - Copy - Copy\\train1.xlsx\")\n",
    "df.head()"
   ]
  },
  {
   "cell_type": "code",
   "execution_count": 3,
   "metadata": {},
   "outputs": [
    {
     "data": {
      "text/html": [
       "<div>\n",
       "<style scoped>\n",
       "    .dataframe tbody tr th:only-of-type {\n",
       "        vertical-align: middle;\n",
       "    }\n",
       "\n",
       "    .dataframe tbody tr th {\n",
       "        vertical-align: top;\n",
       "    }\n",
       "\n",
       "    .dataframe thead th {\n",
       "        text-align: right;\n",
       "    }\n",
       "</style>\n",
       "<table border=\"1\" class=\"dataframe\">\n",
       "  <thead>\n",
       "    <tr style=\"text-align: right;\">\n",
       "      <th></th>\n",
       "      <th>Emotion</th>\n",
       "      <th>Sentence</th>\n",
       "    </tr>\n",
       "  </thead>\n",
       "  <tbody>\n",
       "    <tr>\n",
       "      <th>0</th>\n",
       "      <td>Other</td>\n",
       "      <td>1423k cho mình xin 😃 bài nhạc tên là gì với ạ</td>\n",
       "    </tr>\n",
       "    <tr>\n",
       "      <th>1</th>\n",
       "      <td>Enjoyment</td>\n",
       "      <td>uớc gì sau này về già vẫn có thể như cụ này :))</td>\n",
       "    </tr>\n",
       "    <tr>\n",
       "      <th>2</th>\n",
       "      <td>Enjoyment</td>\n",
       "      <td>mỗi lần có video của con là cứ coi đi coi lại ...</td>\n",
       "    </tr>\n",
       "    <tr>\n",
       "      <th>3</th>\n",
       "      <td>Other</td>\n",
       "      <td>một lí do trog muôn vàn lí do</td>\n",
       "    </tr>\n",
       "    <tr>\n",
       "      <th>4</th>\n",
       "      <td>Sadness</td>\n",
       "      <td>per nghe đi rồi khóc 1 trận cho thoải mái . đừ...</td>\n",
       "    </tr>\n",
       "    <tr>\n",
       "      <th>...</th>\n",
       "      <td>...</td>\n",
       "      <td>...</td>\n",
       "    </tr>\n",
       "    <tr>\n",
       "      <th>6093</th>\n",
       "      <td>Enjoyment</td>\n",
       "      <td>Tôi rất thích làm việc cùng đồng đội.</td>\n",
       "    </tr>\n",
       "    <tr>\n",
       "      <th>6094</th>\n",
       "      <td>Other</td>\n",
       "      <td>Tôi đang tìm cách cải thiện sức khỏe.</td>\n",
       "    </tr>\n",
       "    <tr>\n",
       "      <th>6095</th>\n",
       "      <td>Other</td>\n",
       "      <td>Tôi đang ngồi ở trên ban công để ngắm thành phố.</td>\n",
       "    </tr>\n",
       "    <tr>\n",
       "      <th>6096</th>\n",
       "      <td>Sadness</td>\n",
       "      <td>Tôi chẳng có cái gì tốt đẹp cả.</td>\n",
       "    </tr>\n",
       "    <tr>\n",
       "      <th>6097</th>\n",
       "      <td>Enjoyment</td>\n",
       "      <td>Tôi rất thích cái điện thoại này.</td>\n",
       "    </tr>\n",
       "  </tbody>\n",
       "</table>\n",
       "<p>6098 rows × 2 columns</p>\n",
       "</div>"
      ],
      "text/plain": [
       "        Emotion                                           Sentence\n",
       "0         Other      1423k cho mình xin 😃 bài nhạc tên là gì với ạ\n",
       "1     Enjoyment    uớc gì sau này về già vẫn có thể như cụ này :))\n",
       "2     Enjoyment  mỗi lần có video của con là cứ coi đi coi lại ...\n",
       "3         Other                      một lí do trog muôn vàn lí do\n",
       "4       Sadness  per nghe đi rồi khóc 1 trận cho thoải mái . đừ...\n",
       "...         ...                                                ...\n",
       "6093  Enjoyment              Tôi rất thích làm việc cùng đồng đội.\n",
       "6094      Other              Tôi đang tìm cách cải thiện sức khỏe.\n",
       "6095      Other   Tôi đang ngồi ở trên ban công để ngắm thành phố.\n",
       "6096    Sadness                    Tôi chẳng có cái gì tốt đẹp cả.\n",
       "6097  Enjoyment                  Tôi rất thích cái điện thoại này.\n",
       "\n",
       "[6098 rows x 2 columns]"
      ]
     },
     "execution_count": 3,
     "metadata": {},
     "output_type": "execute_result"
    }
   ],
   "source": [
    "df.drop(\"Unnamed: 0\",axis =1, inplace=True)\n",
    "df"
   ]
  },
  {
   "cell_type": "code",
   "execution_count": 4,
   "metadata": {},
   "outputs": [
    {
     "data": {
      "text/plain": [
       "(6098, 2)"
      ]
     },
     "execution_count": 4,
     "metadata": {},
     "output_type": "execute_result"
    }
   ],
   "source": [
    "df.shape"
   ]
  },
  {
   "cell_type": "code",
   "execution_count": 5,
   "metadata": {
    "colab": {
     "base_uri": "https://localhost:8080/",
     "height": 335
    },
    "id": "GJJNUKrZR9Si",
    "outputId": "82c964a1-b46d-41e4-f9f5-a0e737922685"
   },
   "outputs": [
    {
     "data": {
      "text/plain": [
       "Emotion\n",
       "Enjoyment    2053\n",
       "Sadness      2052\n",
       "Other        1993\n",
       "Name: count, dtype: int64"
      ]
     },
     "execution_count": 5,
     "metadata": {},
     "output_type": "execute_result"
    }
   ],
   "source": [
    "df['Emotion'].value_counts()"
   ]
  },
  {
   "cell_type": "code",
   "execution_count": 6,
   "metadata": {
    "colab": {
     "base_uri": "https://localhost:8080/"
    },
    "id": "u33PU_jNSYJ9",
    "outputId": "bde4038a-9009-4dd9-a0f3-a788d9ebcd88"
   },
   "outputs": [
    {
     "name": "stdout",
     "output_type": "stream",
     "text": [
      "        Emotion                                           Sentence\n",
      "0         Other      1423k cho mình xin 😃 bài nhạc tên là gì với ạ\n",
      "1     Enjoyment    uớc gì sau này về già vẫn có thể như cụ này :))\n",
      "2     Enjoyment  mỗi lần có video của con là cứ coi đi coi lại ...\n",
      "3         Other                      một lí do trog muôn vàn lí do\n",
      "4       Sadness  per nghe đi rồi khóc 1 trận cho thoải mái . đừ...\n",
      "...         ...                                                ...\n",
      "6093  Enjoyment              Tôi rất thích làm việc cùng đồng đội.\n",
      "6094      Other              Tôi đang tìm cách cải thiện sức khỏe.\n",
      "6095      Other   Tôi đang ngồi ở trên ban công để ngắm thành phố.\n",
      "6096    Sadness                    Tôi chẳng có cái gì tốt đẹp cả.\n",
      "6097  Enjoyment                  Tôi rất thích cái điện thoại này.\n",
      "\n",
      "[6055 rows x 2 columns]\n"
     ]
    }
   ],
   "source": [
    "# Remove duplicates from the \"Sentence\" column\n",
    "df = df.drop_duplicates(subset=[\"Sentence\"])\n",
    "\n",
    "print(df)"
   ]
  },
  {
   "cell_type": "code",
   "execution_count": 7,
   "metadata": {
    "colab": {
     "base_uri": "https://localhost:8080/",
     "height": 335
    },
    "id": "9fZA493RSauR",
    "outputId": "e9753d86-8608-493d-96cf-2b19e81efa18"
   },
   "outputs": [
    {
     "data": {
      "text/plain": [
       "Emotion\n",
       "Enjoyment    2052\n",
       "Sadness      2021\n",
       "Other        1982\n",
       "Name: count, dtype: int64"
      ]
     },
     "execution_count": 7,
     "metadata": {},
     "output_type": "execute_result"
    }
   ],
   "source": [
    "df['Emotion'].value_counts()"
   ]
  },
  {
   "cell_type": "code",
   "execution_count": 8,
   "metadata": {
    "colab": {
     "base_uri": "https://localhost:8080/"
    },
    "id": "_OciBQU1Sy09",
    "outputId": "38a057e5-d634-413d-eae9-da5ac3c379e4"
   },
   "outputs": [
    {
     "name": "stdout",
     "output_type": "stream",
     "text": [
      "Number of NaN values in 'emotion' column: 0\n"
     ]
    }
   ],
   "source": [
    "nan_count = df['Sentence'].isna().sum()\n",
    "\n",
    "print(\"Number of NaN values in 'emotion' column:\", nan_count)"
   ]
  },
  {
   "cell_type": "code",
   "execution_count": 9,
   "metadata": {
    "id": "31DWig8RSzfF"
   },
   "outputs": [],
   "source": [
    "emoticon_to_word = {\n",
    "    \"@@\": \"ngạc nhiên \",\n",
    "    \"^^\": \"happy \",\n",
    "    '(°°)': \"bối rồi\",\n",
    "\n",
    "}"
   ]
  },
  {
   "cell_type": "code",
   "execution_count": 10,
   "metadata": {
    "colab": {
     "base_uri": "https://localhost:8080/"
    },
    "id": "TwyR-B86S32A",
    "outputId": "b2e861cd-c3a5-4d07-ec47-e42261feb045"
   },
   "outputs": [
    {
     "name": "stdout",
     "output_type": "stream",
     "text": [
      "I'm feeling so happy! 😃 :DDD :] ;) ngạc nhiên \n"
     ]
    }
   ],
   "source": [
    "def transform_emoticons(text):\n",
    "    if not isinstance(text, str):\n",
    "        # Handle the case where input is not a string (e.g., float)\n",
    "        return str(text)  # Convert the input to a string\n",
    "\n",
    "    for emoticon, word in emoticon_to_word.items():\n",
    "        text = text.replace(emoticon, word)\n",
    "    return text\n",
    "\n",
    "# Example usage\n",
    "input_text = \"I'm feeling so happy! 😃 :DDD :] ;) @@\"\n",
    "output_text = transform_emoticons(input_text)\n",
    "print(output_text)"
   ]
  },
  {
   "cell_type": "code",
   "execution_count": 11,
   "metadata": {
    "colab": {
     "base_uri": "https://localhost:8080/",
     "height": 206
    },
    "id": "TdLYJFxnS8Dr",
    "outputId": "11e9b6e4-a397-4b84-e071-8a6d98b76094"
   },
   "outputs": [
    {
     "data": {
      "text/html": [
       "<div>\n",
       "<style scoped>\n",
       "    .dataframe tbody tr th:only-of-type {\n",
       "        vertical-align: middle;\n",
       "    }\n",
       "\n",
       "    .dataframe tbody tr th {\n",
       "        vertical-align: top;\n",
       "    }\n",
       "\n",
       "    .dataframe thead th {\n",
       "        text-align: right;\n",
       "    }\n",
       "</style>\n",
       "<table border=\"1\" class=\"dataframe\">\n",
       "  <thead>\n",
       "    <tr style=\"text-align: right;\">\n",
       "      <th></th>\n",
       "      <th>Emotion</th>\n",
       "      <th>Sentence</th>\n",
       "    </tr>\n",
       "  </thead>\n",
       "  <tbody>\n",
       "    <tr>\n",
       "      <th>0</th>\n",
       "      <td>Other</td>\n",
       "      <td>1423k cho mình xin 😃 bài nhạc tên là gì với ạ</td>\n",
       "    </tr>\n",
       "    <tr>\n",
       "      <th>1</th>\n",
       "      <td>Enjoyment</td>\n",
       "      <td>uớc gì sau này về già vẫn có thể như cụ này :))</td>\n",
       "    </tr>\n",
       "    <tr>\n",
       "      <th>2</th>\n",
       "      <td>Enjoyment</td>\n",
       "      <td>mỗi lần có video của con là cứ coi đi coi lại ...</td>\n",
       "    </tr>\n",
       "    <tr>\n",
       "      <th>3</th>\n",
       "      <td>Other</td>\n",
       "      <td>một lí do trog muôn vàn lí do</td>\n",
       "    </tr>\n",
       "    <tr>\n",
       "      <th>4</th>\n",
       "      <td>Sadness</td>\n",
       "      <td>per nghe đi rồi khóc 1 trận cho thoải mái . đừ...</td>\n",
       "    </tr>\n",
       "  </tbody>\n",
       "</table>\n",
       "</div>"
      ],
      "text/plain": [
       "     Emotion                                           Sentence\n",
       "0      Other      1423k cho mình xin 😃 bài nhạc tên là gì với ạ\n",
       "1  Enjoyment    uớc gì sau này về già vẫn có thể như cụ này :))\n",
       "2  Enjoyment  mỗi lần có video của con là cứ coi đi coi lại ...\n",
       "3      Other                      một lí do trog muôn vàn lí do\n",
       "4    Sadness  per nghe đi rồi khóc 1 trận cho thoải mái . đừ..."
      ]
     },
     "execution_count": 11,
     "metadata": {},
     "output_type": "execute_result"
    }
   ],
   "source": [
    "df['Sentence']= df['Sentence'].apply(transform_emoticons)\n",
    "\n",
    "df.head()"
   ]
  },
  {
   "cell_type": "code",
   "execution_count": 12,
   "metadata": {
    "colab": {
     "base_uri": "https://localhost:8080/"
    },
    "id": "jHWRH4wrS8Hb",
    "outputId": "3eff1f10-c42a-461e-ac73-9bc10deb0321"
   },
   "outputs": [
    {
     "name": "stdout",
     "output_type": "stream",
     "text": [
      "haha\n",
      ":]\n",
      "WoW!\n"
     ]
    }
   ],
   "source": [
    "def remove_repeated_sequences(text):\n",
    "    # Define a regex pattern to find sequences of repeated characters (including punctuation)\n",
    "    pattern = r'(\\S)\\1+'\n",
    "\n",
    "    # Replace the repeated sequences with a single instance of the character\n",
    "    modified_text = re.sub(pattern, r'\\1', text, flags=re.IGNORECASE)\n",
    "\n",
    "    return modified_text\n",
    "\n",
    "# Example\n",
    "text1 = \"hahaaaa\"\n",
    "result1 = remove_repeated_sequences(text1)\n",
    "print(result1)\n",
    "\n",
    "text2 = \":]]]]\"\n",
    "result2 = remove_repeated_sequences(text2)\n",
    "print(result2)\n",
    "\n",
    "text3 = \"WooOOOOW!!!\"\n",
    "result3 = remove_repeated_sequences(text3)\n",
    "df['Sentence']= df['Sentence'].apply(remove_repeated_sequences)\n",
    "\n",
    "print(result3)\n"
   ]
  },
  {
   "cell_type": "code",
   "execution_count": 13,
   "metadata": {
    "colab": {
     "base_uri": "https://localhost:8080/"
    },
    "id": "OzoE3RDZS8Kb",
    "outputId": "37c54253-a8b5-4c4a-9840-cf7160fbba53"
   },
   "outputs": [
    {
     "name": "stdout",
     "output_type": "stream",
     "text": [
      "['🥰', '♀', '🌧', '😔', '😐', '😌🙂', '🤤', '😁😂', '🎬', '😉', '😑😆❤', '😃', '😂😋', '😅', '❤', '😆😁', '🧐', '😳', '🤣🤭', '🙃', '☻', '💃', '😚😘', '😌', '💪', '😛', '🤔', '💋', '🐕', '👻', '💐', '☺', '😭', '😬', '😆❤', '♥', '😂😄', '👍', '😥😢', '😞🤣', '😦', '😗😚', '😪', '😘', '🤦🏻', '😶', '😤', '🤨', '😊', '😨', '😒', '💕', '😞🙁', '😀', '😫', '😻', '😊❤', '😂👍', '🙂', '😠', '🤧', '😗', '😿', '☹', '😆', '😂😆', '😹', '😥', '😚', '👌', '😩', '💕😍', '😖', '😩🙏🤕', '😎', '👏', '😝', '😓', '😂', '😂😁', '😭😢', '☝', '😁😎', '😢', '😣', '😞', '😴', '🙄', '😄', '😁', '😂😀😁🤣', '😕', '🤪', '😑', '😡', '✌', '😂🤣', '😊😉', '🥵', '🤑', '😏', '♂', '🌸', '🤭', '🤣😭', '🙁', '💔', '💓', '😰', '😍', '🤣', '😊😘', '😋', '🤫', '😂💔', '🤗', '🐶😂', '🤣👍', '🤩']\n"
     ]
    }
   ],
   "source": [
    "def extract_unique_emojis_from_column(sentences):\n",
    "    emoji_pattern = re.compile(\"[\\U0001F600-\\U0001F64F\\U0001F300-\\U0001F5FF\\U0001F680-\\U0001F6FF\\U0001F700-\\U0001F77F\\U0001F780-\\U0001F7FF\\U0001F800-\\U0001F8FF\\U0001F900-\\U0001F9FF\\U0001FA00-\\U0001FA6F\\U0001FA70-\\U0001FAFF\\U00002600-\\U000027BF]+\")\n",
    "\n",
    "    all_emojis = []\n",
    "    for sentence in sentences:\n",
    "        emojis = re.findall(emoji_pattern, sentence)\n",
    "        all_emojis.extend(emojis)\n",
    "\n",
    "    unique_emojis = list(set(all_emojis))\n",
    "    return unique_emojis\n",
    "\n",
    "# Example list of sentences in a column\n",
    "sentences_column = [\n",
    "    \"Hello! 😄🌍🌟 Another day, another emoji! 😄🌍\",\n",
    "    \"Emojis make communication fun! 🎉😊\",\n",
    "    \"I love coding with emojis! 👩‍💻💡\"\n",
    "]\n",
    "\n",
    "emojis_list = extract_unique_emojis_from_column(df[\"Sentence\"])\n",
    "print(emojis_list)"
   ]
  },
  {
   "cell_type": "code",
   "execution_count": 14,
   "metadata": {
    "colab": {
     "base_uri": "https://localhost:8080/"
    },
    "id": "-q_-dFlmS8Nb",
    "outputId": "dbd2dc8c-fbb1-4a78-bb18-4da179e4e59f"
   },
   "outputs": [
    {
     "name": "stdout",
     "output_type": "stream",
     "text": [
      "['🥰', '♀', '🌧', '😔', '😐', '😌', '🙂', '🤤', '😁', '😂', '🎬', '😉', '😑', '😆', '❤', '😃', '😂', '😋', '😅', '❤', '😆', '😁', '🧐', '😳', '🤣', '🤭', '🙃', '☻', '💃', '😚', '😘', '😌', '💪', '😛', '🤔', '💋', '🐕', '👻', '💐', '☺', '😭', '😬', '😆', '❤', '♥', '😂', '😄', '👍', '😥', '😢', '😞', '🤣', '😦', '😗', '😚', '😪', '😘', '🤦', '🏻', '😶', '😤', '🤨', '😊', '😨', '😒', '💕', '😞', '🙁', '😀', '😫', '😻', '😊', '❤', '😂', '👍', '🙂', '😠', '🤧', '😗', '😿', '☹', '😆', '😂', '😆', '😹', '😥', '😚', '👌', '😩', '💕', '😍', '😖', '😩', '🙏', '🤕', '😎', '👏', '😝', '😓', '😂', '😂', '😁', '😭', '😢', '☝', '😁', '😎', '😢', '😣', '😞', '😴', '🙄', '😄', '😁', '😂', '😀', '😁', '🤣', '😕', '🤪', '😑', '😡', '✌', '😂', '🤣', '😊', '😉', '🥵', '🤑', '😏', '♂', '🌸', '🤭', '🤣', '😭', '🙁', '💔', '💓', '😰', '😍', '🤣', '😊', '😘', '😋', '🤫', '😂', '💔', '🤗', '🐶', '😂', '🤣', '👍', '🤩']\n"
     ]
    }
   ],
   "source": [
    "individual_emojis = [emoji for sublist in emojis_list for emoji in sublist]\n",
    "\n",
    "print(individual_emojis)"
   ]
  },
  {
   "cell_type": "code",
   "execution_count": 15,
   "metadata": {
    "id": "W2J38UunS8QD"
   },
   "outputs": [],
   "source": [
    "emoticon_to_word = {\n",
    "    \":)\": \"happy \",\n",
    "    \":]\": \"happy \",\n",
    "    \"=)\": \"happy \",\n",
    "    \":v\": \"happy \",\n",
    "    ':\")': \"huhu \",\n",
    "    \":D\": \"laugh \",\n",
    "    \":(\": \"sad \",\n",
    "    \":<\": \"sad \",\n",
    "    \";)\": \"wink \",\n",
    "    \":|\": \"neutral \",\n",
    "    \":P\": \"tongue \",\n",
    "    \":'(\": \"cry \",\n",
    "    \":O\": \"surprise \",\n",
    "    \"^^\": \"happy \",\n",
    "    \"<3\": \"love \",\n",
    "    \"-.-\": \"annoyance \",\n",
    "    \":-)\": \"happy \",\n",
    "    \"@@\": \"ngạc nhiên \",\n",
    "    \"-_-\": \"bored \",\n",
    "    \":>\": \"smirking \",\n",
    "    \":3\": \"cuteness \",\n",
    "    \":'<\": \"sad \",\n",
    "    \"^^\": \"happy \",\n",
    "    \"=]\": \"friendly \",\n",
    "    \"=.=\": \"disbelief \",\n",
    "    \":x\": \"secrecy \",\n",
    "    \"0 . 0\": \"shock \",\n",
    "    \":#\": \"quiet \",\n",
    "    \">.<\": \"frustration \",\n",
    "    \":)\": \"khinh bỉ \",\n",
    "    \"☻\": \"cười \",\n",
    "    \"☺\": \"cười \",\n",
    "    \"=)\": \"cười \",\n",
    "    \":‑)\": \"cười \",\n",
    "    \":)\": \"cười \",\n",
    "    \":-]\": \"cười \",\n",
    "    \":>\": \"cười \",\n",
    "    \"8-)\": \"cười \",\n",
    "    \"8)\": \"cười \",\n",
    "    \":-}\": \"cười \",\n",
    "    \":}\": \"cười \",\n",
    "    \":o)\": \"cười \",\n",
    "    \":c)\": \"cười\",\n",
    "    \":^)\": \"cười \",\n",
    "    \"=]\": \"cười \",\n",
    "    \"=)\" : \"cười \",\n",
    "    \":-)\": \"cười \",\n",
    "    \":(\": \"buồn \",\n",
    "    \":c\": \"buồn \",\n",
    "    \"-.-\": \"bó tay \",\n",
    "    \"- _ -\": \"bó tay \",\n",
    "    \"xD\": \"cười \",\n",
    "    \"XD\": \"cười \",\n",
    "    \":V\": \"cười \",\n",
    "    \":3\": \"hm \",\n",
    "    \":<\": \"buồn \",\n",
    "    \">:(\": \"tức \",\n",
    "    \">:[\": \"tức \",\n",
    "    \":'(\": \"khóc \",\n",
    "    \"• 3 •\": \"cute \",\n",
    "    \"xd\": \"tức \",\n",
    "    \"uwu\": \":cute \",\n",
    "    \"UwU\": \"cute \",\n",
    "    \"owo\": \"cute face \",\n",
    "    \"OwO\": \"cute face \",\n",
    "\n",
    "\n",
    "}"
   ]
  },
  {
   "cell_type": "code",
   "execution_count": 16,
   "metadata": {
    "colab": {
     "base_uri": "https://localhost:8080/",
     "height": 441
    },
    "id": "BFII4CPsS8TL",
    "outputId": "c1156346-c24c-4094-9f32-ecf39cc0d98a"
   },
   "outputs": [
    {
     "name": "stdout",
     "output_type": "stream",
     "text": [
      "I'm feeling so happy! :grinning_face_with_big_eyes: laugh  wink \n"
     ]
    },
    {
     "data": {
      "text/html": [
       "<div>\n",
       "<style scoped>\n",
       "    .dataframe tbody tr th:only-of-type {\n",
       "        vertical-align: middle;\n",
       "    }\n",
       "\n",
       "    .dataframe tbody tr th {\n",
       "        vertical-align: top;\n",
       "    }\n",
       "\n",
       "    .dataframe thead th {\n",
       "        text-align: right;\n",
       "    }\n",
       "</style>\n",
       "<table border=\"1\" class=\"dataframe\">\n",
       "  <thead>\n",
       "    <tr style=\"text-align: right;\">\n",
       "      <th></th>\n",
       "      <th>Emotion</th>\n",
       "      <th>Sentence</th>\n",
       "    </tr>\n",
       "  </thead>\n",
       "  <tbody>\n",
       "    <tr>\n",
       "      <th>0</th>\n",
       "      <td>Other</td>\n",
       "      <td>1423k cho mình xin :grinning_face_with_big_eye...</td>\n",
       "    </tr>\n",
       "    <tr>\n",
       "      <th>1</th>\n",
       "      <td>Enjoyment</td>\n",
       "      <td>uớc gì sau này về già vẫn có thể như cụ này cười</td>\n",
       "    </tr>\n",
       "    <tr>\n",
       "      <th>2</th>\n",
       "      <td>Enjoyment</td>\n",
       "      <td>mỗi lần có video của con là cứ coi đi coi lại ...</td>\n",
       "    </tr>\n",
       "    <tr>\n",
       "      <th>3</th>\n",
       "      <td>Other</td>\n",
       "      <td>một lí do trog muôn vàn lí do</td>\n",
       "    </tr>\n",
       "    <tr>\n",
       "      <th>4</th>\n",
       "      <td>Sadness</td>\n",
       "      <td>per nghe đi rồi khóc 1 trận cho thoải mái . đừ...</td>\n",
       "    </tr>\n",
       "    <tr>\n",
       "      <th>...</th>\n",
       "      <td>...</td>\n",
       "      <td>...</td>\n",
       "    </tr>\n",
       "    <tr>\n",
       "      <th>6093</th>\n",
       "      <td>Enjoyment</td>\n",
       "      <td>Tôi rất thích làm việc cùng đồng đội.</td>\n",
       "    </tr>\n",
       "    <tr>\n",
       "      <th>6094</th>\n",
       "      <td>Other</td>\n",
       "      <td>Tôi đang tìm cách cải thiện sức khỏe.</td>\n",
       "    </tr>\n",
       "    <tr>\n",
       "      <th>6095</th>\n",
       "      <td>Other</td>\n",
       "      <td>Tôi đang ngồi ở trên ban công để ngắm thành phố.</td>\n",
       "    </tr>\n",
       "    <tr>\n",
       "      <th>6096</th>\n",
       "      <td>Sadness</td>\n",
       "      <td>Tôi chẳng có cái gì tốt đẹp cả.</td>\n",
       "    </tr>\n",
       "    <tr>\n",
       "      <th>6097</th>\n",
       "      <td>Enjoyment</td>\n",
       "      <td>Tôi rất thích cái điện thoại này.</td>\n",
       "    </tr>\n",
       "  </tbody>\n",
       "</table>\n",
       "<p>6055 rows × 2 columns</p>\n",
       "</div>"
      ],
      "text/plain": [
       "        Emotion                                           Sentence\n",
       "0         Other  1423k cho mình xin :grinning_face_with_big_eye...\n",
       "1     Enjoyment  uớc gì sau này về già vẫn có thể như cụ này cười \n",
       "2     Enjoyment  mỗi lần có video của con là cứ coi đi coi lại ...\n",
       "3         Other                      một lí do trog muôn vàn lí do\n",
       "4       Sadness  per nghe đi rồi khóc 1 trận cho thoải mái . đừ...\n",
       "...         ...                                                ...\n",
       "6093  Enjoyment              Tôi rất thích làm việc cùng đồng đội.\n",
       "6094      Other              Tôi đang tìm cách cải thiện sức khỏe.\n",
       "6095      Other   Tôi đang ngồi ở trên ban công để ngắm thành phố.\n",
       "6096    Sadness                    Tôi chẳng có cái gì tốt đẹp cả.\n",
       "6097  Enjoyment                  Tôi rất thích cái điện thoại này.\n",
       "\n",
       "[6055 rows x 2 columns]"
      ]
     },
     "execution_count": 16,
     "metadata": {},
     "output_type": "execute_result"
    }
   ],
   "source": [
    "def transform_emoticons(text):\n",
    "    for emoticon, word in emoticon_to_word.items():\n",
    "        text = text.replace(emoticon, word)\n",
    "    return text\n",
    "\n",
    "def transform_emojis_and_emoticons(text):\n",
    "    text_with_emojis = emoji.demojize(text)\n",
    "    text_with_words = transform_emoticons(text_with_emojis)\n",
    "    return text_with_words\n",
    "\n",
    "# Example usage\n",
    "input_text = \"I'm feeling so happy! 😃 :D ;)\"\n",
    "output_text = transform_emojis_and_emoticons(input_text)\n",
    "print(output_text)\n",
    "df['Sentence'] = df['Sentence'].apply(transform_emojis_and_emoticons)\n",
    "df"
   ]
  },
  {
   "cell_type": "code",
   "execution_count": 17,
   "metadata": {
    "id": "F2oqzqM3S8Wj"
   },
   "outputs": [],
   "source": [
    "english_to_vietnamese = {\n",
    "    \"happy\": \"vui vẻ\",\n",
    "    \"laugh\": \"cười\",\n",
    "    \"sad\": \"buồn\",\n",
    "    \"wink\": \"nháy mắt\",\n",
    "    \"neutral\": \"trung lập\",\n",
    "    \"tongue\": \"trêu đàu\",\n",
    "    \"cry\": \"khóc\",\n",
    "    \"surprise\": \"ngạc nhiên\",\n",
    "    \"love\": \"yêu\",\n",
    "    \"annoyance\": \"tức giận\",\n",
    "    \"confusion\": \"bất ngờ\",\n",
    "    \"bored\": \"chán nản\",\n",
    "    \"smirking\": \"nhếch môi\",\n",
    "    \"cuteness\": \"đáng yêu\",\n",
    "    \"friendly\": \"thân thiện\",\n",
    "    \"disbelief\": \"hoài nghi\",\n",
    "    \"secrecy\": \"bí mật\",\n",
    "    \"shock\": \"shock\",\n",
    "    \"quiet\": \"im lặng\",\n",
    "    \"frustration\": \"thất vọng\",\n",
    "\n",
    "\n",
    "}"
   ]
  },
  {
   "cell_type": "code",
   "execution_count": 18,
   "metadata": {
    "colab": {
     "base_uri": "https://localhost:8080/",
     "height": 461
    },
    "id": "Zwc7Ti3qTKjN",
    "outputId": "1e1b8a58-5725-4bac-83e8-38442fcdd04d"
   },
   "outputs": [
    {
     "name": "stdout",
     "output_type": "stream",
     "text": [
      "Tôi rất hạnh phúc! :grinning_face_with_big_eyes::grinning_face_with_big_eyes::grinning_face_with_big_eyes:cười  nháy mắt \n"
     ]
    },
    {
     "data": {
      "text/html": [
       "<div>\n",
       "<style scoped>\n",
       "    .dataframe tbody tr th:only-of-type {\n",
       "        vertical-align: middle;\n",
       "    }\n",
       "\n",
       "    .dataframe tbody tr th {\n",
       "        vertical-align: top;\n",
       "    }\n",
       "\n",
       "    .dataframe thead th {\n",
       "        text-align: right;\n",
       "    }\n",
       "</style>\n",
       "<table border=\"1\" class=\"dataframe\">\n",
       "  <thead>\n",
       "    <tr style=\"text-align: right;\">\n",
       "      <th></th>\n",
       "      <th>Emotion</th>\n",
       "      <th>Sentence</th>\n",
       "    </tr>\n",
       "  </thead>\n",
       "  <tbody>\n",
       "    <tr>\n",
       "      <th>0</th>\n",
       "      <td>Other</td>\n",
       "      <td>1423k cho mình xin :grinning_face_with_big_eye...</td>\n",
       "    </tr>\n",
       "    <tr>\n",
       "      <th>1</th>\n",
       "      <td>Enjoyment</td>\n",
       "      <td>uớc gì sau này về già vẫn có thể như cụ này cười</td>\n",
       "    </tr>\n",
       "    <tr>\n",
       "      <th>2</th>\n",
       "      <td>Enjoyment</td>\n",
       "      <td>mỗi lần có video của con là cứ coi đi coi lại ...</td>\n",
       "    </tr>\n",
       "    <tr>\n",
       "      <th>3</th>\n",
       "      <td>Other</td>\n",
       "      <td>một lí do trog muôn vàn lí do</td>\n",
       "    </tr>\n",
       "    <tr>\n",
       "      <th>4</th>\n",
       "      <td>Sadness</td>\n",
       "      <td>per nghe đi rồi khóc 1 trận cho thoải mái . đừ...</td>\n",
       "    </tr>\n",
       "    <tr>\n",
       "      <th>...</th>\n",
       "      <td>...</td>\n",
       "      <td>...</td>\n",
       "    </tr>\n",
       "    <tr>\n",
       "      <th>6093</th>\n",
       "      <td>Enjoyment</td>\n",
       "      <td>Tôi rất thích làm việc cùng đồng đội.</td>\n",
       "    </tr>\n",
       "    <tr>\n",
       "      <th>6094</th>\n",
       "      <td>Other</td>\n",
       "      <td>Tôi đang tìm cách cải thiện sức khỏe.</td>\n",
       "    </tr>\n",
       "    <tr>\n",
       "      <th>6095</th>\n",
       "      <td>Other</td>\n",
       "      <td>Tôi đang ngồi ở trên ban công để ngắm thành phố.</td>\n",
       "    </tr>\n",
       "    <tr>\n",
       "      <th>6096</th>\n",
       "      <td>Sadness</td>\n",
       "      <td>Tôi chẳng có cái gì tốt đẹp cả.</td>\n",
       "    </tr>\n",
       "    <tr>\n",
       "      <th>6097</th>\n",
       "      <td>Enjoyment</td>\n",
       "      <td>Tôi rất thích cái điện thoại này.</td>\n",
       "    </tr>\n",
       "  </tbody>\n",
       "</table>\n",
       "<p>6055 rows × 2 columns</p>\n",
       "</div>"
      ],
      "text/plain": [
       "        Emotion                                           Sentence\n",
       "0         Other  1423k cho mình xin :grinning_face_with_big_eye...\n",
       "1     Enjoyment  uớc gì sau này về già vẫn có thể như cụ này cười \n",
       "2     Enjoyment  mỗi lần có video của con là cứ coi đi coi lại ...\n",
       "3         Other                      một lí do trog muôn vàn lí do\n",
       "4       Sadness  per nghe đi rồi khóc 1 trận cho thoải mái . đừ...\n",
       "...         ...                                                ...\n",
       "6093  Enjoyment              Tôi rất thích làm việc cùng đồng đội.\n",
       "6094      Other              Tôi đang tìm cách cải thiện sức khỏe.\n",
       "6095      Other   Tôi đang ngồi ở trên ban công để ngắm thành phố.\n",
       "6096    Sadness                    Tôi chẳng có cái gì tốt đẹp cả.\n",
       "6097  Enjoyment                  Tôi rất thích cái điện thoại này.\n",
       "\n",
       "[6055 rows x 2 columns]"
      ]
     },
     "execution_count": 18,
     "metadata": {},
     "output_type": "execute_result"
    }
   ],
   "source": [
    "def translate_english_to_vietnamese(text):\n",
    "    for english, vietnamese in english_to_vietnamese.items():\n",
    "        text = text.replace(english, vietnamese)\n",
    "    return text\n",
    "\n",
    "# Example usage\n",
    "input_text = \"Tôi rất hạnh phúc! 😃😃😃:D ;)\"\n",
    "output_text = transform_emojis_and_emoticons(input_text)\n",
    "print(translate_english_to_vietnamese(output_text))\n",
    "df['Sentence'] = df['Sentence'].apply(translate_english_to_vietnamese)\n",
    "df"
   ]
  },
  {
   "cell_type": "code",
   "execution_count": 19,
   "metadata": {
    "colab": {
     "base_uri": "https://localhost:8080/"
    },
    "id": "uVGRJjI3TKmb",
    "outputId": "17f3b0a9-fbee-4d0f-da39-25be7e7e29df"
   },
   "outputs": [
    {
     "name": "stdout",
     "output_type": "stream",
     "text": [
      ":smiling_face_with_hearts:\n",
      ":female_sign:\n",
      "buồn loud_with_rain:\n",
      ":pensive_face:\n",
      ":neutral_face:\n",
      ":relieved_face:\n",
      ":slightly_smiling_face:\n",
      ":drooling_face:\n",
      ":beaming_face_with_smiling_eyes:\n",
      ":face_with_tears_of_joy:\n",
      "buồn lapper_board:\n",
      ":winking_face:\n",
      ":expressionless_face:\n",
      ":grinning_squinting_face:\n",
      ":red_heart:\n",
      ":grinning_face_with_big_eyes:\n",
      ":face_with_tears_of_joy:\n",
      ":face_savoring_food:\n",
      ":grinning_face_with_sweat:\n",
      ":red_heart:\n",
      ":grinning_squinting_face:\n",
      ":beaming_face_with_smiling_eyes:\n",
      ":face_with_monocle:\n",
      ":flushed_face:\n",
      ":rolling_on_the_floor_laughing:\n",
      ":face_with_hand_over_mouth:\n",
      ":upside-down_face:\n",
      "cười \n",
      ":woman_dancing:\n",
      ":kissing_face_with_closed_eyes:\n",
      ":face_blowing_a_kiss:\n",
      ":relieved_face:\n",
      ":flexed_biceps:\n",
      ":face_with_tongue:\n",
      ":thinking_face:\n",
      ":kiss_mark:\n",
      ":dog:\n",
      ":ghost:\n",
      ":bouquet:\n",
      ":smiling_face:\n",
      ":loudly_crying_face:\n",
      ":grimacing_face:\n",
      ":grinning_squinting_face:\n",
      ":red_heart:\n",
      ":heart_suit:\n",
      ":face_with_tears_of_joy:\n",
      ":grinning_face_with_smiling_eyes:\n",
      ":thumbs_up:\n",
      ":sad_but_relieved_face:\n",
      "buồn rying_face:\n",
      ":disappointed_face:\n",
      ":rolling_on_the_floor_laughing:\n",
      ":frowning_face_with_open_mouth:\n",
      ":kissing_face:\n",
      ":kissing_face_with_closed_eyes:\n",
      ":sleepy_face:\n",
      ":face_blowing_a_kiss:\n",
      ":person_facepalming:\n",
      ":light_skin_tone:\n",
      ":face_without_mouth:\n",
      ":face_with_steam_from_nose:\n",
      ":face_with_raised_eyebrow:\n",
      ":smiling_face_with_smiling_eyes:\n",
      ":fearful_face:\n",
      ":unamused_face:\n",
      ":two_hearts:\n",
      ":disappointed_face:\n",
      ":slightly_frowning_face:\n",
      ":grinning_face:\n",
      ":tired_face:\n",
      ":smiling_cat_with_heart-eyes:\n",
      ":smiling_face_with_smiling_eyes:\n",
      ":red_heart:\n",
      ":face_with_tears_of_joy:\n",
      ":thumbs_up:\n",
      ":slightly_smiling_face:\n",
      ":angry_face:\n",
      ":sneezing_face:\n",
      ":kissing_face:\n",
      "buồn rying_cat:\n",
      ":frowning_face:\n",
      ":grinning_squinting_face:\n",
      ":face_with_tears_of_joy:\n",
      ":grinning_squinting_face:\n",
      "buồn at_with_tears_of_joy:\n",
      ":sad_but_relieved_face:\n",
      ":kissing_face_with_closed_eyes:\n",
      "surprise K_hand:\n",
      ":weary_face:\n",
      ":two_hearts:\n",
      ":smiling_face_with_heart-eyes:\n",
      "buồn onfounded_face:\n",
      ":weary_face:\n",
      ":folded_hands:\n",
      ":face_with_head-bandage:\n",
      ":smiling_face_with_sunglasses:\n",
      "buồn lapping_hands:\n",
      ":squinting_face_with_tongue:\n",
      ":downcast_face_with_sweat:\n",
      ":face_with_tears_of_joy:\n",
      ":face_with_tears_of_joy:\n",
      ":beaming_face_with_smiling_eyes:\n",
      ":loudly_crying_face:\n",
      "buồn rying_face:\n",
      ":index_pointing_up:\n",
      ":beaming_face_with_smiling_eyes:\n",
      ":smiling_face_with_sunglasses:\n",
      "buồn rying_face:\n",
      ":persevering_face:\n",
      ":disappointed_face:\n",
      ":sleeping_face:\n",
      ":face_with_rolling_eyes:\n",
      ":grinning_face_with_smiling_eyes:\n",
      ":beaming_face_with_smiling_eyes:\n",
      ":face_with_tears_of_joy:\n",
      ":grinning_face:\n",
      ":beaming_face_with_smiling_eyes:\n",
      ":rolling_on_the_floor_laughing:\n",
      "buồn onfused_face:\n",
      ":zany_face:\n",
      ":expressionless_face:\n",
      ":enraged_face:\n",
      "happy ictory_hand:\n",
      ":face_with_tears_of_joy:\n",
      ":rolling_on_the_floor_laughing:\n",
      ":smiling_face_with_smiling_eyes:\n",
      ":winking_face:\n",
      ":hot_face:\n",
      ":money-mouth_face:\n",
      ":smirking_face:\n",
      ":male_sign:\n",
      "buồn herry_blossom:\n",
      ":face_with_hand_over_mouth:\n",
      ":rolling_on_the_floor_laughing:\n",
      ":loudly_crying_face:\n",
      ":slightly_frowning_face:\n",
      ":broken_heart:\n",
      ":beating_heart:\n",
      ":anxious_face_with_sweat:\n",
      ":smiling_face_with_heart-eyes:\n",
      ":rolling_on_the_floor_laughing:\n",
      ":smiling_face_with_smiling_eyes:\n",
      ":face_blowing_a_kiss:\n",
      ":face_savoring_food:\n",
      ":shushing_face:\n",
      ":face_with_tears_of_joy:\n",
      ":broken_heart:\n",
      ":smiling_face_with_open_hands:\n",
      ":dog_face:\n",
      ":face_with_tears_of_joy:\n",
      ":rolling_on_the_floor_laughing:\n",
      ":thumbs_up:\n",
      ":star-struck:\n"
     ]
    }
   ],
   "source": [
    "list_translate_emojis =[]\n",
    "for i in individual_emojis:\n",
    "    c = transform_emojis_and_emoticons(i)\n",
    "    list_translate_emojis.append(c)\n",
    "    print(c)"
   ]
  },
  {
   "cell_type": "code",
   "execution_count": 20,
   "metadata": {
    "id": "GXG4gXWrTRCM"
   },
   "outputs": [],
   "source": [
    "translate_emoticons_to_Vietnamese = {\n",
    "    \":pouting_face:\": \"tức giận \",\n",
    "    \":disappointed_face:\": \"buồn \" ,\n",
    "    \":face_with_tears_of_joy:\": \"haha \",\n",
    "    \":beaming_face_with_smiling_eyes:\": \"vui \",\n",
    "    \":smiling_face_with_smiling_eyes:\": \"vui \",\n",
    "    \":loudly_crying_face:\": \"buồn quá \",\n",
    "    \":expressionless_face:\": \"thất vọng \",\n",
    "    \":hot_face:\": \"mệt \",\n",
    "    \":rolling_on_the_floor_laughing:\": \"vui \",\n",
    "    \":smiling_face_with_sunglasses:\": \"ngầu \",\n",
    "    \":face_blowing_a_kiss:\": \"đáng yêu \",\n",
    "    \":face_with_rolling_eyes:\": \"kinh \",\n",
    "    \":grinning_face_with_sweat:\": \"ngại nhỉ \",\n",
    "    \":grinning_face:\": \"hớn hở \",\n",
    "    \":smiling_face_with_heart-eyes:\": \"đáng yêu \",\n",
    "    \":red_heart:\": \"yêu yêu \",\n",
    "    \":slightly_frowning_face:\": \"buồn quá \",\n",
    "    \":pensive_face:\": \"chán nhỉ \",\n",
    "    \":weary_face:\": \"mệt mỏi \",\n",
    "    \":face_with_raised_eyebrow:\": \"suy nghĩ \",\n",
    "    \":grinning_squinting_face:\": \"haha \",\n",
    "    \":sleepy_face:\": \"mệt \",\n",
    "    \":crying_face:\": \"buồn \",\n",
    "    \"surpriseK_hand:\": \"tốt \",\n",
    "    \":smirking_face:\": \"khinh bỉ \",\n",
    "    \":relieved_face:\":\"hihi \",\n",
    "    \":face_vomiting:\": \"kinh tởm \",\n",
    "    \":smiling_face_with_horns:\":\"kinh tởm \",\n",
    "    \":face_with_steam_from_nose:\": \"bực tức \",\n",
    "    \":face_with_monocle:\": \"lo lắng \",\n",
    "    \":angry_face:\": \"tức \",\n",
    "    \":smiling_face:\": \"vui\",\n",
    "    \":kissing_face_with_closed_eyes:\": \"yêu \",\n",
    "    \":smiling_face_with_hearts:\": \"vui \",\n",
    "    \":face_savoring_food:\": \"ngon \",\n",
    "    \":confused_face:\": \"khó chịu \",\n",
    "    \":thumbs_down:\": \"ghét \",\n",
    "    \":money-mouth_face:\": \" \",\n",
    "    \":cherry_blossom:\": \" \",\n",
    "    \":grimacing_face:\": \"khó chịu \",\n",
    "    \":spider_web:\": \" \",\n",
    "    \":dog:\": \" \",\n",
    "    \":fearful_face:\": \"sợ hãi \",\n",
    "    \":grinning_face_with_smiling_eyes:\": \"cười \",\n",
    "    \":downcast_face_with_sweat:\": \"mệt mỏ \",\n",
    "    \":star-struck:\": \"thích \",\n",
    "    \":folded_hands:\": \"hy vọng \",\n",
    "    \":face_with_head-bandage:\": \"đau mệt \",\n",
    "    \":pile_of_poo:\": \"cứt \",\n",
    "    \":sleeping_face:\": \"ngủ \",\n",
    "    \":smiling_cat_with_heart-eyes:\": \"yêu \",\n",
    "    \":shushing_face:\": \"im lặng \",\n",
    "    \":tired_face:\": \"mệt\",\n",
    "    \":face_with_hand_over_mouth:\": \"ngại ngùng \",\n",
    "    \":new_moon_face:\": \"lạc quan \",\n",
    "    \":frowning_face:\": \"buồn \",\n",
    "    \":thumbs_up:\": \"thích \",\n",
    "    \":flexed_biceps:\": \"cố gắng \",\n",
    "    \":full_moon_face:\": \"hihi \",\n",
    "    \":sad_but_relieved_face:\": \"buồn \",\n",
    "    \":clapping_hands:\": \"chúc mừng \",\n",
    "    \":ghost:\": \"kinh tởm \",\n",
    "    \":person_facepalming:\": \"thất vọng \",\n",
    "    \":light_skin_tone:\": \" \",\n",
    "    \":anxious_face_with_sweat:\": \"lo lắng \",\n",
    "    \":woman_dancing:\": \" \",\n",
    "    \"happyictory_hand:\": \"hạnh phúc \",\n",
    "    \":index_pointing_up:\": \"ở trên \",\n",
    "    \":persevering_face:\": \"cố gắng \",\n",
    "    \":winking_face:\": \"ok \",\n",
    "    \":female_sign:\": \" \",\n",
    "    \":male_sign:\": \" \",\n",
    "    \":face_without_mouth:\": \"bình thường \",\n",
    "    \":unamused_face:\": \"tức \",\n",
    "    \":face_with_open_mouth:\": \"ngạc nhiên \",\n",
    "    \":winking_face_with_tongue:\": \"vui \",\n",
    "    \":slightly_smiling_face:\": \"dễ thương \",\n",
    "    \":neutral_face:\": \"khó chịu \",\n",
    "    \":person_pouting:\": \"khinh thường \",\n",
    "    \":kissing_face:\": \"yêu \",\n",
    "    \":face_screaming_in_fear:\": \"kinh hãi \",\n",
    "    \":drooling_face:\": \"ghiền quá \",\n",
    "    \":squinting_face_with_tongue:\": \"mỉa mai \",\n",
    "    \":kiss_mark:\": \"yêu \",\n",
    "    \":two_hearts:\": \"thích \",\n",
    "    \":sneezing_face:\": \"mệt \",\n",
    "    \":grinning_face_with_big_eyes:\": \"sướng \",\n",
    "    \":upside-down_face:\": \"ngốc \",\n",
    "    \":anguished_face:\": \"đau đớn \",\n",
    "    \":beating_heart:\": \"rung động \",\n",
    "    \":confounded_face:\": \"hoang mang \",\n",
    "    \":cat_with_tears_of_joy:\": \"vui \",\n",
    "    \":smiling_face_with_open_hands:\": \"hạnh phúc \",\n",
    "    \":face_with_symbols_on_mouth:\" : \"tức giận\",\n",
    "    \":smiling_face_with_halo:\" : \"ngây thơ\",\n",
    "    \":exploding_head:\" : \"hoảng loạn\",\n",
    "    \":bat:\": \" \",\n",
    "    \":raising_hands:\"  : \" \",\n",
    "    \":astonished_face:\" : \"ngạc nhiên thật\",\n",
    "    \":flushed_face:\" : \"ngại  ngùng\",\n",
    "    \":superhero:\" : \" \",\n",
    "    \":face_with_crossed-out_eyes:\" : \"cười trong lo sợ\",\n",
    "    \":face_with_open_mouth:\" : \"bất ngờ\",\n",
    "    \":yawning_face:\" : \"buồn ngủ\",\n",
    "    \":squinting_face_with_tongue:\" : \"buồn\",\n",
    "    \":cry:\" : \"khóc\",\n",
    "    \":frowning_face:\" : \"buồn quá đi\",\n",
    "    \":hear-no-evil_monkey:\" : \" \",\n",
    "    \":partying_face:\" : \"vui vẻ\",\n",
    "    \":zany_face:\" : \"kì cục\",\n",
    "    \":thinking_face:\": \"lo lắng\",\n",
    "    \":sun_behind_large_cloud:\": \" \",\n",
    "    \":smiling_face_with_smiling_eyes:\": \"vui quá\",\n",
    "    \":artist_palette:\": \" \",\n",
    "    \":skull:\": \"chết\",\n",
    "    \":hushed_face:\": \"im lặng\",\n",
    "    \":thought_balloon:\": \" \",\n",
    "    \":hamburger:\": \" \",\n",
    "    \":party_popper:\": \" \",\n",
    "    \":prohibited:\": \" \",\n",
    "    \":broken_heart:\": \" đau lòng\",\n",
    "    \":bug:\": \" \",\n",
    "    \":oncoming_fist:\" : \" \",\n",
    "    \":speak-no-evil_monkey:\" : \" \",\n",
    "    \":weary_cat:\" : \"mệt mỏi\",\n",
    "    \":person_shrugging:\" : \" \",\n",
    "    \":fire:\" : \" \",\n",
    "    \":globe_showing_Europe-Africa:\" : \" \",\n",
    "    \":high_voltage:\" : \" \",\n",
    "    \":heart_suit:\" : \" \",\n",
    "    \":bomb:\": \" \",\n",
    "    \":worried_face:\": \"lo lắng\",\n",
    "    \":water_wave:\" : \" \",\n",
    "    \":see-no-evil_monkey:\" : \" \",\n",
    "    \":speaking_head:\" : \"nhiều chuyện \",\n",
    "    \":birthday_cake:\" : \" \",\n",
    "    \":boy:\" : \" \",\n",
    "    \":girl:\" : \" \",\n",
    "    \":snake:\" : \" \",\n",
    "    \":sun_with_face:\" : \"vui vẻ \",\n",
    "    \":fork_and_knife_with_plate:\" : \"ăn \",\n",
    "    \":face_with_tongue:\" : \" \",\n",
    "    \":tornado:\" : \" \",\n",
    "    \":bouquet:\" : \" \",\n",
    "    \":lion:\": \" \",\n",
    "    \":sparkling_heart:\": \"hạnh phúc\",\n",
    "    \":nauseated_face:\" :\"hạnh phúc\",\n",
    "    \":television:\" : \" \",\n",
    "    \":house:\" : \" \",\n",
    "    \":woozy_face:\" : \" \",\n",
    "    \":soft_ice_cream:\" : \" \",\n",
    "    \":pizza:\" : \" \",\n",
    "    \":owl:\" : \" \",\n",
    "    \":mobile_phone:\" : \" \",\n",
    "    \":milky_way:\" : \" \",\n",
    "    \":glowing_star:\" : \" \",\n",
    "    \":person_running:\" : \" \",\n",
    "    \":sleeping_face:\" : \" mệt\",\n",
    "    \":nerd_face:\": \"học sinh giỏi\",\n",
    "    \":new_moon:\" : \" \",\n",
    "    \":skull_and_crossbones:\" : \" \",\n",
    "    \":wrapped_gift:\" : \" \",\n",
    "    \":face_with_thermometer:\" : \"nóng giận\",\n",
    "    \":zzz:\" : \" \",\n",
    "    \":persevering_face:\" : \"kiên nhẫn\",\n",
    "    \":muted_speaker:\" : \" \",\n",
    "    \":fog:\" : \" \",\n",
    "    \":world_map:\" : \" \",\n",
    "    \":trophy:\" : \" \",\n",
    "    \":litter_in_bin_sign:\" : \" \",\n",
    "    \":person_gesturing_NO:\" : \" \",\n",
    "    \":sunrise_over_mountains:\" : \" \",\n",
    "    \":baby:\" : \" \",\n",
    "    \":door:\" : \" \",\n",
    "    \":spider:\" : \" \",\n",
    "    \":stop_sign:\" : \" \",\n",
    "    \":revolving_hearts:\" : \" \",\n",
    "    \":police_car_light:\" : \" \",\n",
    "    \":microphone:\" : \" \",\n",
    "    \":zipper-mouth_face:\" : \"im lặng\",\n",
    "    \":evergreen_tree:\" : \" \",\n",
    "    \":derelict_house:\" : \" \",\n",
    "    \":wilted_flower:\" : \" \",\n",
    "    \":full_moon:\" : \" \",\n",
    "    \":speech_balloon:\" : \" \",\n",
    "    \":person_walking:\" : \" \",\n",
    "    \":tomato:\" : \" \",\n",
    "    \":dashing_away:\" : \" \",\n",
    "    \":running_shoe:\" : \" \",\n",
    "    \":pleading_face:\" : \" \",\n",
    "    \":rainbow:\" : \" \",\n",
    "    \":raised_hand:\" : \" \",\n",
    "    \":face_with_medical_mask:\" : \" \",\n",
    "    \":zombie:\" : \" \",\n",
    "    \":sweat_droplets:\" : \" \",\n",
    "    \":airplane:\" : \" \",\n",
    "    \":anger_symbol:\" : \"tức giận\",\n",
    "    \":dog_face:\" : \" \",\n",
    "    \":grinning_cat_with_smiling_eyes:\" : \" \",\n",
    "    \":brick:\" : \" \",\n",
    "    \":dizzy:\" : \" \",\n",
    "    \":sun_behind_small_cloud:\": \" \",\n",
    "    \":person:\" : \" \",\n",
    "\n",
    "}"
   ]
  },
  {
   "cell_type": "code",
   "execution_count": 21,
   "metadata": {
    "colab": {
     "base_uri": "https://localhost:8080/",
     "height": 441
    },
    "id": "A-KBN8cFTKqE",
    "outputId": "09fcc376-8103-45c5-c8c7-0d18bfbe4ffb"
   },
   "outputs": [
    {
     "name": "stdout",
     "output_type": "stream",
     "text": [
      "hihi hihi :D Tôi rất hạnh phúc! vui vui : :D ;)\n"
     ]
    },
    {
     "data": {
      "text/html": [
       "<div>\n",
       "<style scoped>\n",
       "    .dataframe tbody tr th:only-of-type {\n",
       "        vertical-align: middle;\n",
       "    }\n",
       "\n",
       "    .dataframe tbody tr th {\n",
       "        vertical-align: top;\n",
       "    }\n",
       "\n",
       "    .dataframe thead th {\n",
       "        text-align: right;\n",
       "    }\n",
       "</style>\n",
       "<table border=\"1\" class=\"dataframe\">\n",
       "  <thead>\n",
       "    <tr style=\"text-align: right;\">\n",
       "      <th></th>\n",
       "      <th>Emotion</th>\n",
       "      <th>Sentence</th>\n",
       "    </tr>\n",
       "  </thead>\n",
       "  <tbody>\n",
       "    <tr>\n",
       "      <th>0</th>\n",
       "      <td>Other</td>\n",
       "      <td>1423k cho mình xin sướng  bài nhạc tên là gì v...</td>\n",
       "    </tr>\n",
       "    <tr>\n",
       "      <th>1</th>\n",
       "      <td>Enjoyment</td>\n",
       "      <td>uớc gì sau này về già vẫn có thể như cụ này cười</td>\n",
       "    </tr>\n",
       "    <tr>\n",
       "      <th>2</th>\n",
       "      <td>Enjoyment</td>\n",
       "      <td>mỗi lần có video của con là cứ coi đi coi lại ...</td>\n",
       "    </tr>\n",
       "    <tr>\n",
       "      <th>3</th>\n",
       "      <td>Other</td>\n",
       "      <td>một lí do trog muôn vàn lí do</td>\n",
       "    </tr>\n",
       "    <tr>\n",
       "      <th>4</th>\n",
       "      <td>Sadness</td>\n",
       "      <td>per nghe đi rồi khóc 1 trận cho thoải mái . đừ...</td>\n",
       "    </tr>\n",
       "    <tr>\n",
       "      <th>...</th>\n",
       "      <td>...</td>\n",
       "      <td>...</td>\n",
       "    </tr>\n",
       "    <tr>\n",
       "      <th>6093</th>\n",
       "      <td>Enjoyment</td>\n",
       "      <td>Tôi rất thích làm việc cùng đồng đội.</td>\n",
       "    </tr>\n",
       "    <tr>\n",
       "      <th>6094</th>\n",
       "      <td>Other</td>\n",
       "      <td>Tôi đang tìm cách cải thiện sức khỏe.</td>\n",
       "    </tr>\n",
       "    <tr>\n",
       "      <th>6095</th>\n",
       "      <td>Other</td>\n",
       "      <td>Tôi đang ngồi ở trên ban công để ngắm thành phố.</td>\n",
       "    </tr>\n",
       "    <tr>\n",
       "      <th>6096</th>\n",
       "      <td>Sadness</td>\n",
       "      <td>Tôi chẳng có cái gì tốt đẹp cả.</td>\n",
       "    </tr>\n",
       "    <tr>\n",
       "      <th>6097</th>\n",
       "      <td>Enjoyment</td>\n",
       "      <td>Tôi rất thích cái điện thoại này.</td>\n",
       "    </tr>\n",
       "  </tbody>\n",
       "</table>\n",
       "<p>6055 rows × 2 columns</p>\n",
       "</div>"
      ],
      "text/plain": [
       "        Emotion                                           Sentence\n",
       "0         Other  1423k cho mình xin sướng  bài nhạc tên là gì v...\n",
       "1     Enjoyment  uớc gì sau này về già vẫn có thể như cụ này cười \n",
       "2     Enjoyment  mỗi lần có video của con là cứ coi đi coi lại ...\n",
       "3         Other                      một lí do trog muôn vàn lí do\n",
       "4       Sadness  per nghe đi rồi khóc 1 trận cho thoải mái . đừ...\n",
       "...         ...                                                ...\n",
       "6093  Enjoyment              Tôi rất thích làm việc cùng đồng đội.\n",
       "6094      Other              Tôi đang tìm cách cải thiện sức khỏe.\n",
       "6095      Other   Tôi đang ngồi ở trên ban công để ngắm thành phố.\n",
       "6096    Sadness                    Tôi chẳng có cái gì tốt đẹp cả.\n",
       "6097  Enjoyment                  Tôi rất thích cái điện thoại này.\n",
       "\n",
       "[6055 rows x 2 columns]"
      ]
     },
     "execution_count": 21,
     "metadata": {},
     "output_type": "execute_result"
    }
   ],
   "source": [
    "def translate_english_to_vietnamese_emoticon(text):\n",
    "    for word_form, vietnamese in translate_emoticons_to_Vietnamese.items():\n",
    "        text = text.replace(word_form, vietnamese)\n",
    "    return text\n",
    "\n",
    "# Example usage\n",
    "\n",
    "input_text = \":relieved_face::relieved_face::D Tôi rất hạnh phúc! :beaming_face_with_smiling_eyes::beaming_face_with_smiling_eyes:: :D ;)\"\n",
    "output_text = translate_english_to_vietnamese_emoticon(input_text)\n",
    "print(translate_english_to_vietnamese(output_text))\n",
    "df['Sentence'] = df['Sentence'].apply(translate_english_to_vietnamese_emoticon)\n",
    "df"
   ]
  },
  {
   "cell_type": "code",
   "execution_count": 22,
   "metadata": {
    "id": "2GCOgnVGTKtc"
   },
   "outputs": [],
   "source": [
    "def replace_words(text):\n",
    "    correct_words = {\n",
    "        \"quáa\": \"quá\",\n",
    "        \"coá\": \"có\",\n",
    "        \"ngta\": \"người ta\",\n",
    "        \"nta\": \"người ta\",\n",
    "        \"cf\": \"cà phê\",\n",
    "        \"coffee\": \"cà phê\",\n",
    "        \"cafe\": \"cà phê \",\n",
    "        \"caphe\": \"cà phê\",\n",
    "        \"coffe\": \"cà phê\",\n",
    "        \"hk\": \"không\",\n",
    "        \"cũnh\": \"cũng\",\n",
    "        \"cungc\": \"cũng\",\n",
    "        \"cungz\": \"cũng\",\n",
    "        \"pik\": \"biết\",\n",
    "        \"pk\": \"biết\",\n",
    "        \"bik\": \"biết\",\n",
    "        \"bjt\": \"biết\",\n",
    "        \"nge\": \"nghe\",\n",
    "        \"t\": \"tui\",\n",
    "        \"uh\": \"ừm\",\n",
    "        \"uhm\": \"ừm\",\n",
    "        \"ah\": \"à\",\n",
    "        \"v\": \"vậy\",\n",
    "        \"thậc\": \"thật\",\n",
    "        \"thixx\": \"thích\",\n",
    "        \"nhuwnh\": \"nhưng\",\n",
    "        \"mợt\": \"mệt\",\n",
    "        \"tnao\": \"thế nào\",\n",
    "        \"thik\": \"thích\",\n",
    "        \"k\": \"không\",\n",
    "        \"truất\": \"chất\",\n",
    "        \"fa\": \"Forever Alone\",\n",
    "        \"h\": \"giờ\",\n",
    "        \"chời\": \"trời\",\n",
    "        \"lun\": \"luôn\",\n",
    "        \"trym\": \"chim\",\n",
    "        \"dume\": \"đụ mẹ\",\n",
    "        \"lol\": \"lồn\",\n",
    "        \"loz\": \"lồn\",\n",
    "        \"mừ\": \"mà\",\n",
    "        \"cmnl\": \"con mẹ nó luôn\",\n",
    "        \"đm\": \"đụ mẹ\",\n",
    "        \"ml\": \"mặt lồn\",\n",
    "        \"đcm\": \"địt cụ mày\",\n",
    "        \"zai\": \"trai\",\n",
    "        \"vkl\": \"vãi cả lồn\",\n",
    "        \"thoi\": \"thôi\",\n",
    "        \"mọe\": \"mẹ\",\n",
    "        \"âu kề\": \"ok\",\n",
    "        \"gét\": \"ghét\",\n",
    "        \"ah\": \"à\",\n",
    "        \"vailon\": \"vãi lồn\",\n",
    "        \"đựu\": \"đụ\",\n",
    "        \"lìn\": \"lồn\",\n",
    "        \"gê\": \"ghê\",\n",
    "        \"douma\": \"đụ má\",\n",
    "        \"lòn\":\"lồn\",\n",
    "        \"tềnh\": \"tình\",\n",
    "        \"nthe\": \"như thế\",\n",
    "        \"bều\": \"bèo\",\n",
    "        \"chụy\": \"chị\",\n",
    "        \"mòa\": \"mà\",\n",
    "        \"th\": \"thôi\",\n",
    "        \"v\": \"vậy\",\n",
    "        \"b\": \"bạn\",\n",
    "        \"ny\": \"người yêu\",\n",
    "        \"đbh\": \"đéo bao giờ\",\n",
    "        \"wtf\": \"what the fuck\",\n",
    "        \"rùi\": \"rồi\",\n",
    "        \"gvcn\": \"giáo viên chủ nhiệm\",\n",
    "        \"ròi\": \"rồi\",\n",
    "        \"z\": \"vậy\",\n",
    "        \"àh\": \"à\",\n",
    "        \"rụg\": \"rụng\",\n",
    "        \"vạy\": \"vậy\",\n",
    "        \"nv\": \"nhân viên\",\n",
    "        \"ròi\": \"rồi\",\n",
    "        \"đóa\": \"đó\",\n",
    "        \"vid\": \"video\",\n",
    "        \"hk\": \"không\",\n",
    "        \"clm\": \"cái lồn má\",\n",
    "        \"vlon\": \"vãi lồn\",\n",
    "        \"mềnh\": \"mình\",\n",
    "        \"cmt\": \"bình luận\" ,\n",
    "        \"hỏg\": \"hỏng\",\n",
    "        \"ẻ\": \"ỉa\",\n",
    "        \"dồi\": \"rồi\",\n",
    "        \"dth\": \"dễ thương\",\n",
    "        \"nge\": \"nghe\",\n",
    "        \"ak\": \"á\",\n",
    "        \"iêu\": \"yêu\",\n",
    "        \"thíu\": \"thiếu\",\n",
    "        \"m\": \"mầy\",\n",
    "        \"cíu\": \"cứu\",\n",
    "        \"n\": \"nó\",\n",
    "        \"móa\": \"má\",\n",
    "        \"thặc\": \"thật\",\n",
    "        \"tks\": \"cảm ơn\",\n",
    "        \"c\": \"chị\",\n",
    "        \"mé\": \"má\",\n",
    "        \"pê\": \"bê\",\n",
    "        \"rứa\": \"thế\",\n",
    "        \"hỉ\": \"hả\",\n",
    "        \"stt\": \"bài đăng\",\n",
    "        \"zời\": \"trời\",\n",
    "        \"zo\": \"giờ\",\n",
    "        \"lsao\": \"làm sao\",\n",
    "        \"móa\": \"má\",\n",
    "        \"phe\": \"phê\",\n",
    "        \"r\": \"rồi\",\n",
    "        \"ah\": \"à\",\n",
    "        \"pv\": \"phục vụ\",\n",
    "        \"dth\" : \"dễ thương\",\n",
    "        \"hloz\": \"hãm lồn\",\n",
    "        \"cc\": \"anh chị\",\n",
    "        \"zay\": \"vậy\",\n",
    "        \"hvl\": \"huấn luyện viên\",\n",
    "        \"kara\": \"karaoke\",\n",
    "        \"vại\": \"vậy\",\n",
    "        \"kau\": \"tôi\",\n",
    "        \"co\": \"có\",\n",
    "        \"saolol\" : \"xạo lồn\",\n",
    "        \"bn\": \"bạn\",\n",
    "        \"đzai\" : \"đẹp trai\",\n",
    "        \"iêu\": \"yêu\",\n",
    "        \"thíu\": \"thiếu\",\n",
    "        \"ghe\": \"ghê\",\n",
    "        \"ngulon\": \"ngu lồn\",\n",
    "        \"Kbh\": \"không bao giờ\",\n",
    "        \"mềnh\" : \"mình\",\n",
    "        \"đag\": \"đang\",\n",
    "        \"aw\" : \"á\",\n",
    "        \"cmt\": \"bình luận\",\n",
    "        \"ctay\": \"chia tay\",\n",
    "        \"sg\": \"sài gòn\",\n",
    "        \"qtrong\" : \"quan trọng\",\n",
    "        \"nghr\" : \"nghe\",\n",
    "        \"đg\": \"đường\",\n",
    "        \"gio\": \"giờ\",\n",
    "        \"anw\": \"ăn\",\n",
    "        \"thâu\": \"thôi\",\n",
    "        \"chời\": \"trời\",\n",
    "        \"sx\": \"sản xuất\",\n",
    "        \"hơm\" : \"không\",\n",
    "        \"lien quan\": \"liên quân\",\n",
    "        \"bth\": \"bình thường\",\n",
    "        \"đíu\": \"đếch\",\n",
    "        \"hỉu\": \"hiểu\",\n",
    "        \"n\": \"nó\",\n",
    "        \"ml\": \"mặt lồn\",\n",
    "        \"xời\": \"trời\",\n",
    "        \"đhs\": \"đếch hiểu sao\",\n",
    "        \"v\": \"vậy\",\n",
    "        \"dt\": \"điện thoại\",\n",
    "        \"cta\": \"chúng ta\",\n",
    "        \"post\": \"đăng\",\n",
    "        \"thui\": \"thôi\",\n",
    "        \"bai\": \"bao\",\n",
    "        \"fa\": \"cô đơn\",\n",
    "        \"Gê\": \"ghê\",\n",
    "        \"lân\": \"lần\",\n",
    "        \"ô\": \"ông\",\n",
    "        \"ccao\": \"quảng cáo\",\n",
    "        \"ưi\" : \"ơi\",\n",
    "        \"hoy\": \"thôi\",\n",
    "        \"ce\": \"chị em\",\n",
    "        \"oy\": \"ôi\",\n",
    "        \"chj\": \"chị\",\n",
    "        \"chớ\": \"chứ\",\n",
    "        \"quài\": \"hoài\",\n",
    "        \"pê\": \"bế\",\n",
    "        \"Az\": \"á\",\n",
    "        \"vay\": \"vậy\",\n",
    "        \"duoc\": \"được\",\n",
    "        \"cung\": \"cung\",\n",
    "        \"uoc\": \"ước\",\n",
    "        \"đúi\": \"đuối\",\n",
    "        \"mum\": \"mẹ\",\n",
    "        \"mom\": \"mẹ\",\n",
    "        \"bn\": \"bao nhiêu\",\n",
    "        \"cđ\": \"cũng được\",\n",
    "        \"chai\": \"trai\",\n",
    "        \"tủi\": \"tuổi\",\n",
    "        \"êu\": \"yêu\",\n",
    "        \"mạ\": \"mẹ\",\n",
    "        \"Ko\": \"không\",\n",
    "        \"hềy\": \"hề\",\n",
    "        \"đũy\" : \"đĩ\",\n",
    "        \"tt\": \"nhắn tin\",\n",
    "        \"quad\": \"quá\",\n",
    "        \"yêuc\" : \"yêu\",\n",
    "        \"ts\" : \"trà sữa\",\n",
    "        \"tks\": \"cảm ơn\",\n",
    "        \"dv\" : \"diễn viên\",\n",
    "        \"tý\": \"tí\",\n",
    "        \"bit\": \"biết\",\n",
    "        \"ss\": \"so sánh\",\n",
    "        \"hoi\": \"hỏi\",\n",
    "        \"maiz\": \"mãi\",\n",
    "        \"zai\" : \"trai\",\n",
    "        \"gdinh\": \"gia đình\",\n",
    "        \"disme\": \"đĩ mẹ\",\n",
    "        \"yữn\": \"tưởng\",\n",
    "        \"qué\": \"quá\",\n",
    "        \"z\": \"vậy\",\n",
    "        \"ui\": \"ơi\",\n",
    "        \"kbh\": \"không bao giờ\",\n",
    "        \"ngheng\": \"nghen\",\n",
    "        \"móe\": \"mẹ\",\n",
    "        \"mọe\": \"mẹ\",\n",
    "        \"iem\": \"em\",\n",
    "        \"nờ\": \"à\",\n",
    "        \"hỏg\": \"hỏng\",\n",
    "        \"đk\": \"được không\",\n",
    "        \"thằg\": \"thằng\",\n",
    "        \"hk\": \"không\",\n",
    "        \"lm\": \"làm\",\n",
    "        \"bđ\": \"bóng đá\",\n",
    "        \"vầy\": \"vậy\",\n",
    "        \"lậy\": \"lạy\",\n",
    "        \"b\": \"bạn\",\n",
    "        \"dị\": \"vậy\",\n",
    "        \"nv\": \"như vậy\",\n",
    "        \"êi\": \"ơi\",\n",
    "        \"ib\": \"nhắn tin\",\n",
    "        \"moiij\": \"mọi\",\n",
    "        }\n",
    "    words = text.split()\n",
    "    replaced_words = [correct_words.get(word, word) for word in words]\n",
    "    text = ' '.join(replaced_words)\n",
    "    return text\n",
    "\n",
    "\n",
    "# input_string = \" t rất cóa pik a\"\n",
    "# replaced_string = replace_words(input_string)\n",
    "# print(\"Original String:\", input_string)\n",
    "# print(\"Replaced String:\", replaced_string)\n",
    "df['Sentence'] = df['Sentence'].apply(replace_words)\n"
   ]
  },
  {
   "cell_type": "code",
   "execution_count": 23,
   "metadata": {
    "colab": {
     "base_uri": "https://localhost:8080/"
    },
    "id": "fbYz4OMpTKxD",
    "outputId": "e1becfd5-dbe8-4f12-995f-728d83654a96"
   },
   "outputs": [
    {
     "name": "stdout",
     "output_type": "stream",
     "text": [
      "Original Sentence: Cuối tuần được ngủ nướng, thích thật!\n",
      "Cleaned Sentence: tuần ngủ nướng, thật!\n"
     ]
    }
   ],
   "source": [
    "def remove_stopwords(sentence, stopword_file=r'd:\\DAP391m\\Assigment final\\Assignment_DAP - Copy - Copy\\stopword_1.txt'):\n",
    "    # Read stopwords from the file with utf-8 encoding\n",
    "    with open(stopword_file, 'r', encoding='utf-8') as file:\n",
    "        stopwords = set(word.strip() for word in file)\n",
    "\n",
    "    # Tokenize the input sentence into words\n",
    "    words = sentence.split()\n",
    "\n",
    "    # Remove the stopwords from the list of words\n",
    "    filtered_words = [word for word in words if word.lower() not in stopwords]\n",
    "\n",
    "    # Reconstruct the sentence without the stopwords\n",
    "    filtered_sentence = ' '.join(filtered_words)\n",
    "\n",
    "    return filtered_sentence\n",
    "\n",
    "# Example usage\n",
    "if __name__ == \"__main__\":\n",
    "    input_sentence = \"Cuối tuần được ngủ nướng, thích thật!\"\n",
    "    cleaned_sentence = remove_stopwords(input_sentence)\n",
    "    print(\"Original Sentence:\", input_sentence)\n",
    "    print(\"Cleaned Sentence:\", cleaned_sentence)\n",
    "df['Sentence'] = df['Sentence'].apply(remove_stopwords)\n"
   ]
  },
  {
   "cell_type": "code",
   "execution_count": 24,
   "metadata": {
    "colab": {
     "base_uri": "https://localhost:8080/"
    },
    "id": "BE5CKPnjTK0b",
    "outputId": "5f03faf0-7a55-45bb-cb3c-50352c8d3c9a"
   },
   "outputs": [
    {
     "name": "stdout",
     "output_type": "stream",
     "text": [
      "Tui rất nhớ anh\n"
     ]
    }
   ],
   "source": [
    "def remove_double_spaces(sentence):\n",
    "    cleaned_sentence = re.sub(r'\\s+', ' ', sentence)\n",
    "    return cleaned_sentence.strip()\n",
    "print(remove_double_spaces(\" Tui rất  nhớ     anh\"))\n",
    "df['Sentence'] = df['Sentence'].apply(remove_double_spaces)\n"
   ]
  },
  {
   "cell_type": "code",
   "execution_count": 25,
   "metadata": {
    "colab": {
     "base_uri": "https://localhost:8080/",
     "height": 423
    },
    "id": "fTLwfY2XTK37",
    "outputId": "3e0e52aa-38b1-47ca-eb93-56c913d80a5f"
   },
   "outputs": [
    {
     "data": {
      "text/html": [
       "<div>\n",
       "<style scoped>\n",
       "    .dataframe tbody tr th:only-of-type {\n",
       "        vertical-align: middle;\n",
       "    }\n",
       "\n",
       "    .dataframe tbody tr th {\n",
       "        vertical-align: top;\n",
       "    }\n",
       "\n",
       "    .dataframe thead th {\n",
       "        text-align: right;\n",
       "    }\n",
       "</style>\n",
       "<table border=\"1\" class=\"dataframe\">\n",
       "  <thead>\n",
       "    <tr style=\"text-align: right;\">\n",
       "      <th></th>\n",
       "      <th>Emotion</th>\n",
       "      <th>Sentence</th>\n",
       "    </tr>\n",
       "  </thead>\n",
       "  <tbody>\n",
       "    <tr>\n",
       "      <th>0</th>\n",
       "      <td>Other</td>\n",
       "      <td>1423k sướng nhạc</td>\n",
       "    </tr>\n",
       "    <tr>\n",
       "      <th>1</th>\n",
       "      <td>Enjoyment</td>\n",
       "      <td>uớc già thể cụ cười</td>\n",
       "    </tr>\n",
       "    <tr>\n",
       "      <th>2</th>\n",
       "      <td>Enjoyment</td>\n",
       "      <td>video coi đi coi hoài . cưng .</td>\n",
       "    </tr>\n",
       "    <tr>\n",
       "      <th>3</th>\n",
       "      <td>Other</td>\n",
       "      <td>lí trog muôn vàn lí</td>\n",
       "    </tr>\n",
       "    <tr>\n",
       "      <th>4</th>\n",
       "      <td>Sadness</td>\n",
       "      <td>per đi khóc 1 trận thoải mái . đừng cố gồng</td>\n",
       "    </tr>\n",
       "    <tr>\n",
       "      <th>...</th>\n",
       "      <td>...</td>\n",
       "      <td>...</td>\n",
       "    </tr>\n",
       "    <tr>\n",
       "      <th>6093</th>\n",
       "      <td>Enjoyment</td>\n",
       "      <td>đồng đội.</td>\n",
       "    </tr>\n",
       "    <tr>\n",
       "      <th>6094</th>\n",
       "      <td>Other</td>\n",
       "      <td>cải thiện sức khỏe.</td>\n",
       "    </tr>\n",
       "    <tr>\n",
       "      <th>6095</th>\n",
       "      <td>Other</td>\n",
       "      <td>ban công ngắm thành phố.</td>\n",
       "    </tr>\n",
       "    <tr>\n",
       "      <th>6096</th>\n",
       "      <td>Sadness</td>\n",
       "      <td>chẳng đẹp cả.</td>\n",
       "    </tr>\n",
       "    <tr>\n",
       "      <th>6097</th>\n",
       "      <td>Enjoyment</td>\n",
       "      <td>điện thoại này.</td>\n",
       "    </tr>\n",
       "  </tbody>\n",
       "</table>\n",
       "<p>6055 rows × 2 columns</p>\n",
       "</div>"
      ],
      "text/plain": [
       "        Emotion                                     Sentence\n",
       "0         Other                             1423k sướng nhạc\n",
       "1     Enjoyment                          uớc già thể cụ cười\n",
       "2     Enjoyment               video coi đi coi hoài . cưng .\n",
       "3         Other                          lí trog muôn vàn lí\n",
       "4       Sadness  per đi khóc 1 trận thoải mái . đừng cố gồng\n",
       "...         ...                                          ...\n",
       "6093  Enjoyment                                    đồng đội.\n",
       "6094      Other                          cải thiện sức khỏe.\n",
       "6095      Other                     ban công ngắm thành phố.\n",
       "6096    Sadness                                chẳng đẹp cả.\n",
       "6097  Enjoyment                              điện thoại này.\n",
       "\n",
       "[6055 rows x 2 columns]"
      ]
     },
     "execution_count": 25,
     "metadata": {},
     "output_type": "execute_result"
    }
   ],
   "source": [
    "df"
   ]
  },
  {
   "cell_type": "code",
   "execution_count": 26,
   "metadata": {
    "colab": {
     "base_uri": "https://localhost:8080/",
     "height": 223
    },
    "id": "sxxnL6z6TK7l",
    "outputId": "109f0ef5-2ee4-4ecd-899d-07ea0eaa9ae5"
   },
   "outputs": [
    {
     "name": "stdout",
     "output_type": "stream",
     "text": [
      "There are  apples and  K oranges on the table.\n"
     ]
    },
    {
     "data": {
      "text/html": [
       "<div>\n",
       "<style scoped>\n",
       "    .dataframe tbody tr th:only-of-type {\n",
       "        vertical-align: middle;\n",
       "    }\n",
       "\n",
       "    .dataframe tbody tr th {\n",
       "        vertical-align: top;\n",
       "    }\n",
       "\n",
       "    .dataframe thead th {\n",
       "        text-align: right;\n",
       "    }\n",
       "</style>\n",
       "<table border=\"1\" class=\"dataframe\">\n",
       "  <thead>\n",
       "    <tr style=\"text-align: right;\">\n",
       "      <th></th>\n",
       "      <th>Emotion</th>\n",
       "      <th>Sentence</th>\n",
       "    </tr>\n",
       "  </thead>\n",
       "  <tbody>\n",
       "    <tr>\n",
       "      <th>0</th>\n",
       "      <td>Other</td>\n",
       "      <td>k sướng nhạc</td>\n",
       "    </tr>\n",
       "    <tr>\n",
       "      <th>1</th>\n",
       "      <td>Enjoyment</td>\n",
       "      <td>uớc già thể cụ cười</td>\n",
       "    </tr>\n",
       "    <tr>\n",
       "      <th>2</th>\n",
       "      <td>Enjoyment</td>\n",
       "      <td>video coi đi coi hoài . cưng .</td>\n",
       "    </tr>\n",
       "    <tr>\n",
       "      <th>3</th>\n",
       "      <td>Other</td>\n",
       "      <td>lí trog muôn vàn lí</td>\n",
       "    </tr>\n",
       "    <tr>\n",
       "      <th>4</th>\n",
       "      <td>Sadness</td>\n",
       "      <td>per đi khóc  trận thoải mái . đừng cố gồng</td>\n",
       "    </tr>\n",
       "  </tbody>\n",
       "</table>\n",
       "</div>"
      ],
      "text/plain": [
       "     Emotion                                    Sentence\n",
       "0      Other                                k sướng nhạc\n",
       "1  Enjoyment                         uớc già thể cụ cười\n",
       "2  Enjoyment              video coi đi coi hoài . cưng .\n",
       "3      Other                         lí trog muôn vàn lí\n",
       "4    Sadness  per đi khóc  trận thoải mái . đừng cố gồng"
      ]
     },
     "execution_count": 26,
     "metadata": {},
     "output_type": "execute_result"
    }
   ],
   "source": [
    "def remove_numbers(sentence):\n",
    "    cleaned_sentence = re.sub(r'\\d+', '', sentence)\n",
    "    return cleaned_sentence\n",
    "input_sentence = \"There are 3 apples and 5 195K oranges on the table.\"\n",
    "result = remove_numbers(input_sentence)\n",
    "print(result)\n",
    "df['Sentence'] = df['Sentence'].apply(remove_numbers)\n",
    "df.head()"
   ]
  },
  {
   "cell_type": "code",
   "execution_count": 27,
   "metadata": {
    "colab": {
     "base_uri": "https://localhost:8080/"
    },
    "id": "of_ipccVTK_D",
    "outputId": "01bd277b-f514-4616-b78e-2357c629ba8f"
   },
   "outputs": [
    {
     "name": "stdout",
     "output_type": "stream",
     "text": [
      "ví dụ về chữ viết thường\n"
     ]
    }
   ],
   "source": [
    "def convert_to_lowercase(input_text):\n",
    "    return input_text.lower()\n",
    "text = \"Ví Dụ Về Chữ Viết THƯỜNG\"\n",
    "lowercased_text = convert_to_lowercase(text)\n",
    "df['Sentence'] = df['Sentence'].apply(convert_to_lowercase)\n",
    "\n",
    "print(lowercased_text)"
   ]
  },
  {
   "cell_type": "code",
   "execution_count": 28,
   "metadata": {
    "colab": {
     "base_uri": "https://localhost:8080/"
    },
    "id": "aTY-1laOT6PL",
    "outputId": "e6e036a3-8327-4057-d94c-f66dcd2cfbdf"
   },
   "outputs": [
    {
     "name": "stdout",
     "output_type": "stream",
     "text": [
      " rất bùn lun á \n"
     ]
    }
   ],
   "source": [
    "import re\n",
    "\n",
    "def remove_lonely_letters(input_str):\n",
    "    pattern = r'\\b[a-zA-Z]\\b'  # Mẫu regex tìm các chữ cái đứng một mình\n",
    "    result = re.sub(pattern, '', input_str)\n",
    "    return result\n",
    "\n",
    "input_sentence = \"t rất bùn lun á m\"\n",
    "modified_sentence = remove_lonely_letters(input_sentence)\n",
    "print(modified_sentence)"
   ]
  },
  {
   "cell_type": "code",
   "execution_count": 29,
   "metadata": {
    "id": "skB9ac3yT6Sb"
   },
   "outputs": [],
   "source": [
    "df['Sentence'] = df['Sentence'].apply(remove_lonely_letters)"
   ]
  },
  {
   "cell_type": "code",
   "execution_count": 30,
   "metadata": {
    "colab": {
     "base_uri": "https://localhost:8080/",
     "height": 206
    },
    "id": "VGyl4HvET6V0",
    "outputId": "98c3ca7a-c1b1-43df-ea37-314f1cc9c4c8"
   },
   "outputs": [
    {
     "data": {
      "text/html": [
       "<div>\n",
       "<style scoped>\n",
       "    .dataframe tbody tr th:only-of-type {\n",
       "        vertical-align: middle;\n",
       "    }\n",
       "\n",
       "    .dataframe tbody tr th {\n",
       "        vertical-align: top;\n",
       "    }\n",
       "\n",
       "    .dataframe thead th {\n",
       "        text-align: right;\n",
       "    }\n",
       "</style>\n",
       "<table border=\"1\" class=\"dataframe\">\n",
       "  <thead>\n",
       "    <tr style=\"text-align: right;\">\n",
       "      <th></th>\n",
       "      <th>Emotion</th>\n",
       "      <th>Sentence</th>\n",
       "      <th>label</th>\n",
       "    </tr>\n",
       "  </thead>\n",
       "  <tbody>\n",
       "    <tr>\n",
       "      <th>0</th>\n",
       "      <td>Other</td>\n",
       "      <td>sướng nhạc</td>\n",
       "      <td>0</td>\n",
       "    </tr>\n",
       "    <tr>\n",
       "      <th>1</th>\n",
       "      <td>Enjoyment</td>\n",
       "      <td>uớc già thể cụ cười</td>\n",
       "      <td>1</td>\n",
       "    </tr>\n",
       "    <tr>\n",
       "      <th>2</th>\n",
       "      <td>Enjoyment</td>\n",
       "      <td>video coi đi coi hoài . cưng .</td>\n",
       "      <td>1</td>\n",
       "    </tr>\n",
       "    <tr>\n",
       "      <th>3</th>\n",
       "      <td>Other</td>\n",
       "      <td>lí trog muôn vàn lí</td>\n",
       "      <td>0</td>\n",
       "    </tr>\n",
       "    <tr>\n",
       "      <th>4</th>\n",
       "      <td>Sadness</td>\n",
       "      <td>per đi khóc  trận thoải mái . đừng cố gồng</td>\n",
       "      <td>2</td>\n",
       "    </tr>\n",
       "  </tbody>\n",
       "</table>\n",
       "</div>"
      ],
      "text/plain": [
       "     Emotion                                    Sentence  label\n",
       "0      Other                                  sướng nhạc      0\n",
       "1  Enjoyment                         uớc già thể cụ cười      1\n",
       "2  Enjoyment              video coi đi coi hoài . cưng .      1\n",
       "3      Other                         lí trog muôn vàn lí      0\n",
       "4    Sadness  per đi khóc  trận thoải mái . đừng cố gồng      2"
      ]
     },
     "execution_count": 30,
     "metadata": {},
     "output_type": "execute_result"
    }
   ],
   "source": [
    "# Function to convert string data to numbers in the \"label\" column\n",
    "def convert_string_to_numbers(df, column_name):\n",
    "    df[\"label\"] = pd.factorize(df[\"Emotion\"])[0]\n",
    "\n",
    "# Call the function to convert string data to numbers in the \"label\" column\n",
    "convert_string_to_numbers(df, \"Emotion\")\n",
    "df.head()"
   ]
  },
  {
   "cell_type": "code",
   "execution_count": 31,
   "metadata": {
    "colab": {
     "base_uri": "https://localhost:8080/"
    },
    "id": "k3xIZoZOT6ZE",
    "outputId": "f5fed513-821a-4d66-9072-1606c293f578"
   },
   "outputs": [
    {
     "name": "stdout",
     "output_type": "stream",
     "text": [
      "Mapping giữa cảm xúc và nhãn số:\n",
      "Label: 0 -> Emotion: Other\n",
      "Label: 1 -> Emotion: Enjoyment\n",
      "Label: 2 -> Emotion: Sadness\n"
     ]
    }
   ],
   "source": [
    "# Tạo bảng tra cứu mối quan hệ giữa nhãn (label) và cảm xúc (emotions)\n",
    "label_mapping = dict(enumerate(pd.factorize(df[\"Emotion\"])[1]))\n",
    "\n",
    "# In ra bảng tra cứu\n",
    "print(\"Mapping giữa cảm xúc và nhãn số:\")\n",
    "for label, emotion in label_mapping.items():\n",
    "    print(f\"Label: {label} -> Emotion: {emotion}\")\n"
   ]
  },
  {
   "cell_type": "code",
   "execution_count": 32,
   "metadata": {
    "colab": {
     "base_uri": "https://localhost:8080/",
     "height": 206
    },
    "id": "n4UWNXgUT6h8",
    "outputId": "9e766251-d7c6-4909-a130-c7f7dcdae259"
   },
   "outputs": [
    {
     "data": {
      "text/html": [
       "<div>\n",
       "<style scoped>\n",
       "    .dataframe tbody tr th:only-of-type {\n",
       "        vertical-align: middle;\n",
       "    }\n",
       "\n",
       "    .dataframe tbody tr th {\n",
       "        vertical-align: top;\n",
       "    }\n",
       "\n",
       "    .dataframe thead th {\n",
       "        text-align: right;\n",
       "    }\n",
       "</style>\n",
       "<table border=\"1\" class=\"dataframe\">\n",
       "  <thead>\n",
       "    <tr style=\"text-align: right;\">\n",
       "      <th></th>\n",
       "      <th>Emotion</th>\n",
       "      <th>text</th>\n",
       "      <th>label</th>\n",
       "    </tr>\n",
       "  </thead>\n",
       "  <tbody>\n",
       "    <tr>\n",
       "      <th>0</th>\n",
       "      <td>Other</td>\n",
       "      <td>sướng nhạc</td>\n",
       "      <td>0</td>\n",
       "    </tr>\n",
       "    <tr>\n",
       "      <th>1</th>\n",
       "      <td>Enjoyment</td>\n",
       "      <td>uớc già thể cụ cười</td>\n",
       "      <td>1</td>\n",
       "    </tr>\n",
       "    <tr>\n",
       "      <th>2</th>\n",
       "      <td>Enjoyment</td>\n",
       "      <td>video coi đi coi hoài . cưng .</td>\n",
       "      <td>1</td>\n",
       "    </tr>\n",
       "    <tr>\n",
       "      <th>3</th>\n",
       "      <td>Other</td>\n",
       "      <td>lí trog muôn vàn lí</td>\n",
       "      <td>0</td>\n",
       "    </tr>\n",
       "    <tr>\n",
       "      <th>4</th>\n",
       "      <td>Sadness</td>\n",
       "      <td>per đi khóc  trận thoải mái . đừng cố gồng</td>\n",
       "      <td>2</td>\n",
       "    </tr>\n",
       "  </tbody>\n",
       "</table>\n",
       "</div>"
      ],
      "text/plain": [
       "     Emotion                                        text  label\n",
       "0      Other                                  sướng nhạc      0\n",
       "1  Enjoyment                         uớc già thể cụ cười      1\n",
       "2  Enjoyment              video coi đi coi hoài . cưng .      1\n",
       "3      Other                         lí trog muôn vàn lí      0\n",
       "4    Sadness  per đi khóc  trận thoải mái . đừng cố gồng      2"
      ]
     },
     "execution_count": 32,
     "metadata": {},
     "output_type": "execute_result"
    }
   ],
   "source": [
    "df.rename(columns={'Sentence': 'text'}, inplace=True)\n",
    "df.head()"
   ]
  },
  {
   "cell_type": "code",
   "execution_count": 33,
   "metadata": {
    "colab": {
     "base_uri": "https://localhost:8080/",
     "height": 206
    },
    "id": "Z-3ffHMpUSPN",
    "outputId": "301e7a08-85d6-4e26-ffa1-cb80ba5ab67b"
   },
   "outputs": [
    {
     "data": {
      "text/html": [
       "<div>\n",
       "<style scoped>\n",
       "    .dataframe tbody tr th:only-of-type {\n",
       "        vertical-align: middle;\n",
       "    }\n",
       "\n",
       "    .dataframe tbody tr th {\n",
       "        vertical-align: top;\n",
       "    }\n",
       "\n",
       "    .dataframe thead th {\n",
       "        text-align: right;\n",
       "    }\n",
       "</style>\n",
       "<table border=\"1\" class=\"dataframe\">\n",
       "  <thead>\n",
       "    <tr style=\"text-align: right;\">\n",
       "      <th></th>\n",
       "      <th>text</th>\n",
       "      <th>label</th>\n",
       "    </tr>\n",
       "  </thead>\n",
       "  <tbody>\n",
       "    <tr>\n",
       "      <th>0</th>\n",
       "      <td>sướng nhạc</td>\n",
       "      <td>0</td>\n",
       "    </tr>\n",
       "    <tr>\n",
       "      <th>1</th>\n",
       "      <td>uớc già thể cụ cười</td>\n",
       "      <td>1</td>\n",
       "    </tr>\n",
       "    <tr>\n",
       "      <th>2</th>\n",
       "      <td>video coi đi coi hoài . cưng .</td>\n",
       "      <td>1</td>\n",
       "    </tr>\n",
       "    <tr>\n",
       "      <th>3</th>\n",
       "      <td>lí trog muôn vàn lí</td>\n",
       "      <td>0</td>\n",
       "    </tr>\n",
       "    <tr>\n",
       "      <th>4</th>\n",
       "      <td>per đi khóc  trận thoải mái . đừng cố gồng</td>\n",
       "      <td>2</td>\n",
       "    </tr>\n",
       "  </tbody>\n",
       "</table>\n",
       "</div>"
      ],
      "text/plain": [
       "                                         text  label\n",
       "0                                  sướng nhạc      0\n",
       "1                         uớc già thể cụ cười      1\n",
       "2              video coi đi coi hoài . cưng .      1\n",
       "3                         lí trog muôn vàn lí      0\n",
       "4  per đi khóc  trận thoải mái . đừng cố gồng      2"
      ]
     },
     "execution_count": 33,
     "metadata": {},
     "output_type": "execute_result"
    }
   ],
   "source": [
    "df.drop('Emotion', axis=1, inplace=True)\n",
    "df.head()"
   ]
  },
  {
   "cell_type": "code",
   "execution_count": 34,
   "metadata": {
    "id": "UeXhmadwUhYs"
   },
   "outputs": [],
   "source": [
    "df = df.dropna(subset=['text'])\n"
   ]
  },
  {
   "cell_type": "code",
   "execution_count": 35,
   "metadata": {
    "id": "Q0MGuwYNUbfL"
   },
   "outputs": [],
   "source": [
    "df.to_csv(r\"d:\\DAP391m\\Assigment final\\Assignment_DAP - Copy - Copy\\balance_data_way3.csv\", index=False)\n"
   ]
  },
  {
   "cell_type": "code",
   "execution_count": 36,
   "metadata": {
    "colab": {
     "base_uri": "https://localhost:8080/",
     "height": 423
    },
    "id": "EHsd0dd-T6xs",
    "outputId": "75bc5a66-3ce4-4eaa-d4bb-05675b69d634"
   },
   "outputs": [
    {
     "data": {
      "text/html": [
       "<div>\n",
       "<style scoped>\n",
       "    .dataframe tbody tr th:only-of-type {\n",
       "        vertical-align: middle;\n",
       "    }\n",
       "\n",
       "    .dataframe tbody tr th {\n",
       "        vertical-align: top;\n",
       "    }\n",
       "\n",
       "    .dataframe thead th {\n",
       "        text-align: right;\n",
       "    }\n",
       "</style>\n",
       "<table border=\"1\" class=\"dataframe\">\n",
       "  <thead>\n",
       "    <tr style=\"text-align: right;\">\n",
       "      <th></th>\n",
       "      <th>text</th>\n",
       "      <th>label</th>\n",
       "    </tr>\n",
       "  </thead>\n",
       "  <tbody>\n",
       "    <tr>\n",
       "      <th>0</th>\n",
       "      <td>sướng nhạc</td>\n",
       "      <td>0</td>\n",
       "    </tr>\n",
       "    <tr>\n",
       "      <th>1</th>\n",
       "      <td>uớc già thể cụ cười</td>\n",
       "      <td>1</td>\n",
       "    </tr>\n",
       "    <tr>\n",
       "      <th>2</th>\n",
       "      <td>video coi đi coi hoài . cưng .</td>\n",
       "      <td>1</td>\n",
       "    </tr>\n",
       "    <tr>\n",
       "      <th>3</th>\n",
       "      <td>lí trog muôn vàn lí</td>\n",
       "      <td>0</td>\n",
       "    </tr>\n",
       "    <tr>\n",
       "      <th>4</th>\n",
       "      <td>per đi khóc  trận thoải mái . đừng cố gồng</td>\n",
       "      <td>2</td>\n",
       "    </tr>\n",
       "    <tr>\n",
       "      <th>...</th>\n",
       "      <td>...</td>\n",
       "      <td>...</td>\n",
       "    </tr>\n",
       "    <tr>\n",
       "      <th>6093</th>\n",
       "      <td>đồng đội.</td>\n",
       "      <td>1</td>\n",
       "    </tr>\n",
       "    <tr>\n",
       "      <th>6094</th>\n",
       "      <td>cải thiện sức khỏe.</td>\n",
       "      <td>0</td>\n",
       "    </tr>\n",
       "    <tr>\n",
       "      <th>6095</th>\n",
       "      <td>ban công ngắm thành phố.</td>\n",
       "      <td>0</td>\n",
       "    </tr>\n",
       "    <tr>\n",
       "      <th>6096</th>\n",
       "      <td>chẳng đẹp cả.</td>\n",
       "      <td>2</td>\n",
       "    </tr>\n",
       "    <tr>\n",
       "      <th>6097</th>\n",
       "      <td>điện thoại này.</td>\n",
       "      <td>1</td>\n",
       "    </tr>\n",
       "  </tbody>\n",
       "</table>\n",
       "<p>6055 rows × 2 columns</p>\n",
       "</div>"
      ],
      "text/plain": [
       "                                            text  label\n",
       "0                                     sướng nhạc      0\n",
       "1                            uớc già thể cụ cười      1\n",
       "2                 video coi đi coi hoài . cưng .      1\n",
       "3                            lí trog muôn vàn lí      0\n",
       "4     per đi khóc  trận thoải mái . đừng cố gồng      2\n",
       "...                                          ...    ...\n",
       "6093                                   đồng đội.      1\n",
       "6094                         cải thiện sức khỏe.      0\n",
       "6095                    ban công ngắm thành phố.      0\n",
       "6096                               chẳng đẹp cả.      2\n",
       "6097                             điện thoại này.      1\n",
       "\n",
       "[6055 rows x 2 columns]"
      ]
     },
     "execution_count": 36,
     "metadata": {},
     "output_type": "execute_result"
    }
   ],
   "source": [
    "df"
   ]
  },
  {
   "cell_type": "code",
   "execution_count": 37,
   "metadata": {
    "colab": {
     "base_uri": "https://localhost:8080/",
     "height": 335
    },
    "id": "QLd30x2ZUoMG",
    "outputId": "1598d7c9-0fee-4d29-cc06-eed6915f7c2e"
   },
   "outputs": [
    {
     "data": {
      "text/plain": [
       "label\n",
       "1    2052\n",
       "2    2021\n",
       "0    1982\n",
       "Name: count, dtype: int64"
      ]
     },
     "execution_count": 37,
     "metadata": {},
     "output_type": "execute_result"
    }
   ],
   "source": [
    "df['label'].value_counts()"
   ]
  },
  {
   "cell_type": "code",
   "execution_count": 38,
   "metadata": {
    "colab": {
     "base_uri": "https://localhost:8080/"
    },
    "id": "xZpuwhfjUoPF",
    "outputId": "3a114314-c9e4-4251-b0cd-edea83ad7e95"
   },
   "outputs": [
    {
     "data": {
      "text/plain": [
       "0"
      ]
     },
     "execution_count": 38,
     "metadata": {},
     "output_type": "execute_result"
    }
   ],
   "source": [
    "nan_count = df['text'].isna().sum()\n",
    "nan_count"
   ]
  },
  {
   "cell_type": "code",
   "execution_count": 39,
   "metadata": {
    "colab": {
     "base_uri": "https://localhost:8080/"
    },
    "id": "gVwVIysvUoVs",
    "outputId": "1d8cd436-94c8-4d0f-a8e0-3f23995a1a31"
   },
   "outputs": [
    {
     "name": "stdout",
     "output_type": "stream",
     "text": [
      "Class 0: Weight 1.02\n",
      "Class 1: Weight 0.97\n",
      "Class 2: Weight 1.01\n"
     ]
    }
   ],
   "source": [
    "import numpy as np\n",
    "import pandas as pd\n",
    "from sklearn.utils.class_weight import compute_class_weight\n",
    "from sklearn.model_selection import train_test_split\n",
    "\n",
    "# Load your data from CSV or other sources\n",
    "data = pd.read_csv(r'd:\\DAP391m\\Assigment final\\Assignment_DAP - Copy - Copy\\balance_data_way3.csv')\n",
    "\n",
    "# Extract labels from the 'label' column\n",
    "y = data['label'].values\n",
    "x = data['text']\n",
    "y = np.array(y)\n",
    "\n",
    "# Split the data into training and validation sets\n",
    "X_train, X_val, y_train, y_val = train_test_split(x, y, test_size=0.15, random_state=42)\n",
    "\n",
    "# Calculate class weights based on training labels\n",
    "class_weights = compute_class_weight('balanced', classes=np.unique(y_train), y=y_train)\n",
    "\n",
    "# Print the calculated class weights\n",
    "for class_id, weight in enumerate(class_weights):\n",
    "    print(f\"Class {class_id}: Weight {weight:.2f}\")\n"
   ]
  },
  {
   "cell_type": "code",
   "execution_count": null,
   "metadata": {
    "id": "4lj4oV8WUoaW"
   },
   "outputs": [],
   "source": []
  },
  {
   "cell_type": "code",
   "execution_count": null,
   "metadata": {
    "id": "lHnjA_U5Uod8"
   },
   "outputs": [],
   "source": []
  },
  {
   "cell_type": "code",
   "execution_count": null,
   "metadata": {
    "id": "tFEqU4vYS8bb"
   },
   "outputs": [],
   "source": []
  }
 ],
 "metadata": {
  "colab": {
   "provenance": []
  },
  "kernelspec": {
   "display_name": "Python 3",
   "name": "python3"
  },
  "language_info": {
   "codemirror_mode": {
    "name": "ipython",
    "version": 3
   },
   "file_extension": ".py",
   "mimetype": "text/x-python",
   "name": "python",
   "nbconvert_exporter": "python",
   "pygments_lexer": "ipython3",
   "version": "3.11.3"
  }
 },
 "nbformat": 4,
 "nbformat_minor": 0
}
